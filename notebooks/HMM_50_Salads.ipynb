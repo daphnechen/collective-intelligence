{
 "cells": [
  {
   "cell_type": "code",
   "execution_count": 1,
   "metadata": {
    "scrolled": true
   },
   "outputs": [],
   "source": [
    "import numpy as np\n",
    "import matplotlib.pyplot as plt\n",
    "import pandas as pd\n",
    "\n",
    "import itertools\n",
    "import random\n"
   ]
  },
  {
   "cell_type": "code",
   "execution_count": 2,
   "metadata": {
    "scrolled": true
   },
   "outputs": [],
   "source": [
    "# df = pd.read_csv('team_data.csv')\n",
    "\n",
    "# df = pd.read_csv('../data/50_salads_data_test.csv')\n",
    "\n",
    "df = pd.read_csv('../src/new_data.csv')"
   ]
  },
  {
   "cell_type": "code",
   "execution_count": 3,
   "metadata": {
    "scrolled": true
   },
   "outputs": [
    {
     "name": "stdout",
     "output_type": "stream",
     "text": [
      "['unique_id', 'person_id', 'video_id', 'start_t', 'end_t', 'action']\n"
     ]
    }
   ],
   "source": [
    "print(list(df.columns))"
   ]
  },
  {
   "cell_type": "code",
   "execution_count": 16,
   "metadata": {},
   "outputs": [
    {
     "name": "stdout",
     "output_type": "stream",
     "text": [
      "[list([1, 0, 2, 3, 4, 5, 6, 7, 8, 9, 10, 11, 12, 13, 14, 15, 16, 17, 18, 20, 19, 21, 22, 23, 24, 25, 26, 27, 28, 29, 30, 32, 31, 33, 34, 35, 36, 37, 38, 39, 40, 41, 42, 43, 44, 45, 46, 48, 47, 49, 50, 51, 53, 52])\n",
      " list([1, 0, 2, 3, 4, 5, 6, 7, 8, 9, 22, 23, 24, 25, 26, 27, 10, 11, 12, 13, 14, 15, 16, 17, 18, 19, 20, 21, 28, 29, 30, 32, 35, 36, 37, 38, 39, 40, 41, 42, 43, 31, 33, 34, 44, 45, 46, 48, 51, 52, 53, 47, 49, 50])\n",
      " list([1, 0, 2, 3, 4, 5, 6, 7, 8, 9, 22, 23, 24, 25, 26, 27, 10, 11, 12, 13, 14, 15, 16, 17, 18, 19, 20, 21, 28, 29, 30, 41, 42, 43, 31, 33, 34, 44, 46, 32, 45, 35, 36, 37, 38, 39, 40, 44, 45, 46, 48, 47, 49, 50, 51, 52, 53])\n",
      " list([1, 16, 17, 18, 22, 23, 24, 16, 17, 18, 19, 20, 21, 25, 26, 27, 0, 2, 3, 4, 5, 6, 7, 8, 9, 10, 11, 12, 13, 14, 15, 28, 29, 30, 32, 41, 42, 43, 31, 33, 34, 35, 36, 37, 38, 39, 40, 44, 45, 46, 48, 51, 52, 53, 1, 28, 48, 49, 50])\n",
      " list([32, 31, 33, 34, 41, 42, 43, 38, 39, 40, 35, 36, 37, 44, 45, 46, 1, 10, 11, 12, 13, 14, 15, 16, 17, 19, 20, 21, 22, 23, 25, 26, 27, 0, 2, 3, 4, 5, 6, 7, 8, 9, 28, 29, 30, 47, 49, 50, 51, 52, 53, 48])\n",
      " list([32, 41, 31, 1, 48, 42, 43, 33, 34, 35, 36, 37, 44, 45, 46, 38, 39, 40, 44, 45, 46, 22, 23, 24, 25, 26, 27, 10, 11, 13, 14, 15, 0, 2, 3, 5, 4, 6, 7, 8, 9, 16, 17, 18, 20, 21, 28, 29, 30, 51, 52, 53, 1, 28, 29, 30, 48, 47, 49, 50])\n",
      " list([1, 32, 12, 10, 17, 18, 23, 38, 41, 42, 43, 31, 33, 34, 35, 36, 37, 39, 40, 44, 45, 46, 10, 11, 13, 14, 11, 13, 14, 16, 19, 20, 21, 22, 25, 26, 27])\n",
      " list([32, 41, 42, 43, 31, 33, 34, 35, 36, 37, 38, 39, 40, 44, 45, 46, 1, 10, 11, 12, 13, 14, 15, 10, 11, 13, 14, 15, 22, 23, 24, 25, 14, 15, 16, 17, 18, 20, 28, 29, 30, 0, 2, 3, 4, 5, 7, 6, 8, 9, 28, 29, 30, 48, 51, 52, 53, 1, 28, 29, 30, 48, 47, 49, 50])\n",
      " list([32, 1, 48, 38, 39, 40, 36, 35, 37, 41, 42, 31, 33, 34, 44, 45, 46, 17, 18, 10, 12, 2, 3, 0, 2, 3, 4, 5, 6, 22, 23, 51, 52, 53, 29, 1, 28, 48, 49, 47, 50, 43, 16, 11, 0, 7, 8, 9, 13, 14, 9, 8, 26, 25])\n",
      " list([32, 35, 36, 37, 38, 39, 40, 41, 42, 43, 31, 33, 34, 44, 45, 46, 1, 10, 11, 12, 13, 14, 15, 16, 17, 18, 19, 20, 21, 0, 2, 3, 5, 6, 7, 8, 9, 22, 23, 24, 25, 26, 27, 28, 29, 30, 48, 47, 49, 50, 51, 52, 53])\n",
      " list([32, 31, 33, 34, 35, 36, 37, 38, 39, 40, 41, 42, 43, 44, 45, 46, 1, 22, 23, 24, 25, 26, 24, 16, 17, 18, 19, 20, 21, 0, 2, 3, 4, 5, 6, 7, 8, 10, 9, 11, 12, 13, 11, 15, 28, 30, 29, 48, 51, 52, 53, 28, 29, 1, 30, 48, 47, 49, 50])\n",
      " list([32, 31, 33, 34, 41, 42, 43, 38, 39, 40, 35, 36, 37, 45, 46, 1, 22, 23, 24, 25, 26, 27, 10, 11, 12, 13, 14, 15, 0, 2, 3, 4, 5, 6, 0, 2, 3, 4, 5, 6, 7, 8, 9, 16, 17, 18, 19, 20, 21, 28, 29, 30, 48, 51, 52, 53, 47, 49, 50])\n",
      " list([1, 0, 2, 3, 4, 5, 6, 22, 23, 24, 25, 26, 24, 7, 8, 9, 10, 11, 12, 13, 14, 16, 17, 18, 19, 20, 28, 29, 30, 32, 41, 42, 43, 31, 33, 34, 35, 36, 37, 38, 39, 40, 44, 45, 48, 51, 52, 53, 1, 28, 29, 48, 47, 49, 50])\n",
      " list([32, 31, 33, 34, 41, 42, 43, 35, 36, 37, 38, 39, 40, 44, 45, 46, 1, 22, 23, 25, 26, 27, 10, 11, 13, 14, 15, 16, 17, 18, 19, 20, 21, 0, 2, 3, 4, 5, 6, 7, 8, 9, 29, 30, 48, 51, 52, 53, 1, 29, 48, 47, 49, 50])\n",
      " list([1, 0, 2, 3, 4, 5, 6, 7, 8, 10, 11, 12, 13, 14, 15, 22, 23, 24, 25, 26, 25, 26, 25, 26, 16, 17, 18, 19, 20, 28, 29, 10, 11, 12, 13, 14, 28, 29, 30, 32, 31, 33, 34, 41, 42, 43, 44, 45, 35, 46, 36, 37, 45, 46, 48, 47, 49, 50, 51, 52, 53])\n",
      " list([1, 0, 2, 3, 4, 5, 6, 7, 8, 9, 16, 17, 18, 20, 21, 22, 23, 24, 25, 26, 27, 10, 11, 12, 13, 14, 15, 29, 30, 32, 31, 33, 34, 43, 41, 42, 35, 36, 37, 38, 39, 40, 44, 45, 46, 48, 47, 50, 49, 51, 52, 53])\n",
      " list([1, 0, 2, 3, 4, 5, 6, 7, 8, 9, 16, 17, 18, 19, 20, 21, 22, 23, 24, 25, 26, 22, 23, 24, 25, 27, 26, 11, 10, 12, 13, 14, 15, 28, 29, 30, 32, 41, 42, 43, 31, 33, 34, 38, 39, 40, 35, 36, 37, 48, 47, 49, 50, 51, 52, 53])\n",
      " list([32, 41, 42, 43, 31, 33, 34, 35, 36, 37, 38, 39, 40, 44, 45, 46, 1, 4, 5, 6, 7, 8, 9, 22, 23, 24, 25, 26, 27, 10, 11, 12, 13, 14, 15, 16, 17, 18, 19, 20, 27, 28, 29, 30, 48, 47, 49, 50, 51, 52, 53])\n",
      " list([32, 41, 42, 43, 35, 37, 36, 38, 39, 40, 45, 44, 46, 31, 33, 34, 44, 45, 46, 44, 45, 46, 45, 1, 0, 2, 3, 4, 6, 5, 7, 8, 9, 4, 5, 8, 6, 9, 4, 6, 5, 8, 9, 16, 17, 18, 22, 23, 24, 10, 11, 12, 19, 25, 13, 20, 21, 14, 15, 26, 27, 28, 29, 30, 48, 47, 49, 50, 51, 52, 53])\n",
      " list([32, 35, 36, 37, 38, 39, 40, 31, 33, 34, 41, 42, 43, 44, 45, 46, 1, 16, 17, 18, 22, 23, 24, 0, 2, 3, 4, 5, 6, 10, 11, 12, 7, 8, 9, 19, 20, 21, 13, 14, 15, 48, 51, 52, 53, 1, 29, 30, 48, 47, 49, 50])\n",
      " list([1, 10, 11, 12, 13, 14, 15, 16, 17, 18, 19, 20, 21, 22, 23, 24, 25, 26, 27, 0, 2, 3, 4, 5, 6, 7, 8, 9, 28, 29, 30, 32, 31, 33, 34, 41, 42, 43, 35, 36, 37, 38, 39, 40, 44, 45, 46, 48, 47, 49, 50, 51, 52, 53])\n",
      " list([1, 22, 23, 24, 25, 26, 27, 11, 10, 12, 10, 11, 12, 13, 14, 15, 16, 17, 19, 18, 20, 21, 28, 29, 30, 32, 41, 42, 43, 31, 33, 34, 44, 45, 35, 46, 36, 37, 38, 39, 40, 45, 48, 47, 49, 50, 51, 52, 53])\n",
      " list([1, 22, 23, 24, 25, 26, 27, 16, 17, 18, 19, 21, 20, 0, 2, 3, 4, 5, 6, 7, 8, 9, 10, 11, 12, 13, 14, 15, 29, 30, 32, 31, 33, 34, 41, 42, 43, 35, 36, 37, 38, 39, 40, 44, 45, 47, 49, 50, 51, 52, 53, 48])\n",
      " list([32, 38, 39, 40, 35, 36, 37, 31, 33, 34, 41, 42, 43, 44, 45, 46, 1, 16, 17, 18, 0, 2, 3, 4, 5, 6, 10, 11, 12, 22, 23, 24, 7, 8, 9, 28, 19, 25, 13, 20, 26, 14, 21, 27, 15, 29, 30, 48, 51, 52, 53, 47, 49, 50])\n",
      " list([32, 41, 42, 43, 31, 33, 34, 35, 36, 37, 38, 39, 40, 44, 45, 46, 1, 16, 17, 18, 19, 20, 21, 0, 2, 3, 4, 6, 5, 22, 23, 6, 10, 12, 11, 7, 25, 13, 8, 9, 14, 15, 26, 27, 28, 29, 30, 48, 51, 52, 53, 47, 49, 50])\n",
      " list([32, 41, 42, 43, 31, 33, 34, 35, 36, 37, 38, 39, 40, 44, 45, 46, 1, 48, 0, 2, 3, 4, 5, 6, 0, 2, 3, 4, 5, 7, 6, 8, 16, 17, 18, 19, 20, 10, 11, 12, 13, 14, 22, 23, 24, 25, 26, 22, 23, 24, 25, 26, 27, 28, 29, 30, 47, 49, 50, 51, 52, 53])\n",
      " list([32, 31, 33, 34, 41, 42, 43, 38, 39, 40, 35, 36, 37, 1, 22, 23, 24, 25, 27, 26, 10, 11, 12, 13, 14, 15, 16, 17, 18, 20, 21, 0, 2, 3, 4, 5, 6, 7, 8, 9, 28, 29, 30, 48, 47, 49, 50])\n",
      " list([32, 35, 36, 38, 37, 39, 40, 41, 42, 43, 31, 33, 34, 44, 45, 46, 1, 16, 17, 18, 19, 20, 21, 22, 23, 24, 25, 26, 27, 0, 2, 3, 4, 5, 6, 7, 8, 9, 10, 11, 12, 13, 14, 15, 28, 29, 30, 48, 51, 52, 53, 47, 49, 50])\n",
      " list([32, 31, 33, 34, 41, 42, 43, 35, 36, 45, 35, 36, 37, 38, 39, 40, 45, 46, 1, 22, 23, 24, 25, 26, 27, 22, 23, 24, 25, 26, 27, 10, 11, 12, 13, 14, 16, 17, 18, 19, 20, 21, 0, 2, 3, 4, 5, 6, 7, 8, 9, 28, 29, 30, 49, 50, 51, 52, 53, 48, 47])\n",
      " list([1, 0, 2, 3, 4, 5, 6, 22, 23, 24, 25, 26, 27, 10, 11, 12, 16, 17, 18, 16, 17, 18, 19, 20, 21, 13, 14, 15, 7, 8, 9, 28, 29, 30, 32, 38, 39, 40, 35, 36, 37, 41, 42, 43, 31, 33, 34, 44, 45, 46, 48, 47, 49, 50])\n",
      " list([1, 11, 10, 12, 13, 14, 15, 17, 16, 18, 19, 20, 21, 22, 23, 24, 25, 26, 27, 0, 2, 3, 4, 5, 6, 7, 8, 9, 28, 29, 30, 32, 31, 33, 34, 41, 42, 43, 38, 39, 40, 35, 36, 37, 44, 45, 46, 48, 47, 49, 50, 51, 52, 53])\n",
      " list([1, 48, 10, 11, 13, 14, 0, 2, 3, 4, 5, 7, 8, 16, 17, 18, 19, 20, 22, 23, 24, 22, 23, 25, 26, 27, 28, 29, 30, 41, 42, 43, 31, 33, 34, 38, 39, 40, 35, 36, 37, 44, 32, 45, 46, 47, 49, 50])\n",
      " list([32, 38, 39, 40, 35, 36, 37, 41, 42, 43, 31, 33, 34, 1, 16, 17, 10, 18, 11, 12, 0, 2, 3, 4, 5, 6, 7, 19, 13, 8, 20, 14, 9, 21, 15, 28, 29, 48, 51, 30, 52, 53, 29, 30, 1, 28, 22, 23, 24, 25, 26, 28, 29, 30, 48, 47, 49, 50])\n",
      " list([1, 10, 11, 12, 13, 14, 0, 2, 3, 4, 5, 6, 7, 22, 23, 24, 25, 26, 16, 17, 18, 19, 20, 28, 29, 30, 32, 31, 33, 34, 38, 39, 40, 35, 36, 37, 44, 45, 46, 41, 43, 42, 44, 45, 46, 48, 47, 49, 50])\n",
      " list([32, 38, 39, 40, 35, 36, 37, 31, 33, 34, 41, 42, 43, 1, 22, 23, 24, 0, 2, 3, 4, 5, 6, 10, 11, 12, 16, 17, 18, 7, 19, 25, 13, 8, 20, 26, 14, 9, 21, 27, 15, 28, 29, 30, 48, 47, 49, 50, 51, 52, 53])\n",
      " list([1, 32, 1, 48, 17, 18, 11, 22, 23, 22, 23, 0, 5, 41, 42, 43, 31, 33, 34, 38, 39, 40, 35, 36, 37, 28, 29, 30, 47, 49, 50, 16, 19, 20, 21, 10, 11, 13, 14, 10, 13, 14, 28, 29, 30, 14, 15, 25, 26, 25, 26, 27, 2, 3, 4, 7, 8, 5, 7, 8, 9])\n",
      " list([1, 22, 23, 24, 25, 26, 27, 16, 17, 18, 19, 20, 21, 0, 2, 3, 4, 5, 6, 7, 8, 9, 10, 11, 12, 13, 14, 15, 28, 29, 30, 32, 38, 39, 40, 35, 36, 37, 41, 42, 43, 31, 33, 34, 44, 45, 46, 48, 47, 49, 50, 51, 52, 53])\n",
      " list([1, 22, 24, 23, 25, 26, 27, 10, 11, 12, 13, 14, 15, 0, 2, 3, 4, 6, 5, 7, 8, 9, 17, 16, 18, 19, 20, 21, 28, 29, 30, 32, 31, 33, 34, 41, 42, 43, 38, 39, 40, 35, 36, 37, 44, 45, 46, 48, 47, 50])\n",
      " list([1, 10, 11, 12, 0, 2, 3, 4, 5, 6, 16, 17, 18, 22, 23, 24, 25, 26, 27, 7, 8, 9, 13, 15, 14, 19, 20, 28, 21, 29, 30, 32, 38, 39, 40, 35, 36, 37, 41, 42, 43, 33, 34, 31, 44, 45, 46, 48, 47, 49, 50])\n",
      " list([32, 31, 33, 34, 41, 42, 43, 35, 36, 37, 38, 39, 40, 44, 45, 46, 1, 22, 23, 24, 25, 26, 27, 10, 11, 12, 13, 14, 15, 16, 17, 18, 19, 20, 21, 0, 2, 3, 4, 5, 7, 8, 9, 28, 29, 30, 48, 47, 49, 50, 51, 52, 53])\n",
      " list([32, 31, 33, 34, 41, 42, 43, 38, 40, 39, 35, 36, 37, 44, 45, 46, 31, 33, 34, 44, 45, 46, 1, 22, 23, 24, 25, 26, 27, 22, 23, 24, 25, 26, 27, 10, 11, 12, 13, 14, 15, 16, 17, 18, 19, 20, 21, 0, 2, 3, 4, 6, 5, 7, 8, 9, 4, 5, 6, 7, 8, 9, 28, 29, 30, 48, 51, 52, 53, 49, 47, 50])\n",
      " list([1, 32, 48, 2, 3, 22, 23, 24, 17, 18, 10, 11, 28, 29, 30, 33, 31, 41, 42, 43, 35, 36, 37, 38, 39, 44, 45, 46, 47, 50, 49, 51, 52, 53, 0, 7, 8, 9, 25, 26, 16, 19, 20, 12, 14, 13, 34, 40])\n",
      " list([1, 16, 17, 18, 0, 2, 3, 4, 5, 6, 19, 20, 7, 8, 9, 10, 11, 13, 14, 15, 22, 23, 24, 25, 26, 27, 28, 29, 30, 41, 42, 43, 31, 33, 34, 35, 36, 37, 38, 39, 40, 44, 45, 32, 52, 53, 48, 51, 47, 49, 50])\n",
      " list([32, 31, 33, 34, 41, 42, 43, 44, 45, 46, 38, 39, 40, 35, 36, 37, 44, 45, 46, 1, 10, 11, 12, 13, 14, 15, 22, 23, 24, 25, 26, 27, 16, 17, 18, 19, 20, 21, 0, 2, 3, 5, 6, 7, 8, 9, 28, 29, 30, 48, 51, 52, 53, 47, 49, 50])\n",
      " list([1, 22, 23, 24, 16, 17, 18, 10, 11, 12, 0, 2, 3, 4, 6, 5, 25, 27, 26, 13, 15, 14, 19, 20, 21, 7, 8, 29, 30, 32, 31, 33, 34, 41, 42, 43, 35, 36, 37, 39, 38, 40, 44, 45, 46, 48, 47, 49, 50, 51, 52, 53])\n",
      " list([4, 5, 6, 7, 8, 9, 4, 1, 5, 6, 7, 8, 9, 22, 23, 24, 25, 26, 27, 16, 17, 20, 21, 10, 11, 12, 13, 14, 15, 10, 11, 12, 13, 14, 15, 28, 29, 30, 32, 38, 39, 40, 31, 33, 34, 35, 36, 37, 41, 42, 43, 44, 45, 46, 48, 52, 53, 47, 49, 50])\n",
      " list([32, 31, 33, 34, 41, 42, 43, 38, 39, 40, 35, 36, 37, 44, 45, 46, 1, 10, 11, 12, 13, 14, 15, 22, 23, 24, 25, 26, 27, 16, 17, 18, 19, 20, 21, 0, 2, 3, 4, 5, 6, 7, 8, 9, 28, 29, 30, 48, 47, 49, 50, 51, 52, 53])\n",
      " list([32, 31, 33, 34, 41, 42, 43, 38, 39, 40, 35, 36, 37, 44, 45, 46, 1, 0, 2, 3, 4, 5, 6, 22, 23, 24, 16, 17, 18, 10, 11, 12, 25, 26, 7, 8, 9, 13, 14, 15, 19, 20, 29, 30, 51, 52, 53, 48, 47, 49, 50])\n",
      " list([1, 22, 23, 24, 25, 26, 27, 0, 2, 3, 4, 5, 6, 7, 8, 9, 16, 17, 18, 19, 20, 21, 10, 11, 12, 13, 14, 15, 28, 29, 30, 28, 29, 30, 32, 38, 39, 40, 35, 36, 37, 44, 45, 46, 31, 33, 34, 41, 42, 43, 44, 45, 46, 48, 47, 49, 50])\n",
      " list([32, 31, 33, 34, 41, 42, 43, 35, 36, 37, 38, 39, 40, 44, 45, 46, 1, 0, 2, 3, 4, 5, 6, 7, 8, 9, 22, 23, 24, 25, 26, 27, 10, 11, 12, 13, 14, 15, 16, 17, 18, 19, 20, 21, 28, 29, 30, 48, 51, 52, 53, 47, 49, 50])\n",
      " list([1, 0, 2, 3, 4, 5, 8, 9, 4, 5, 8, 9, 10, 11, 13, 14, 15, 10, 11, 12, 13, 14, 15, 16, 17, 18, 19, 20, 21, 22, 23, 24, 25, 26, 27, 31, 33, 34, 35, 36, 37, 38, 39, 40, 41, 42, 43, 44, 46, 32, 45, 1, 29, 48, 47, 49, 50, 51, 52, 53])\n",
      " list([32, 1, 31, 33, 34, 41, 42, 43, 35, 36, 37, 38, 39, 40, 44, 45, 46, 2, 3, 5, 6, 11, 12, 10, 11, 12, 17, 18, 22, 23, 24, 28, 29, 30, 0, 16, 48, 47, 49, 50, 51, 52, 53, 7, 8, 4, 7, 8, 10, 13, 14, 15, 13, 14, 19, 20, 25, 26])\n",
      " list([1, 10, 11, 13, 12, 14, 15, 16, 17, 18, 19, 21, 20, 0, 2, 3, 4, 5, 6, 8, 7, 9, 22, 24, 23, 25, 26, 27, 22, 23, 24, 25, 26, 27, 28, 29, 30, 32, 38, 39, 40, 31, 33, 34, 35, 36, 37, 41, 42, 43, 44, 45, 46, 48, 47, 49, 50])\n",
      " list([1, 22, 23, 24, 25, 26, 27, 16, 17, 18, 19, 20, 21, 10, 11, 12, 13, 14, 15, 0, 2, 3, 4, 5, 6, 7, 8, 9, 28, 29, 30, 32, 41, 42, 43, 31, 33, 34, 35, 36, 37, 38, 39, 40, 44, 45, 48, 52, 53, 47, 49, 50])]\n"
     ]
    }
   ],
   "source": [
    "view_data = np.load('../src/salad_data.npy', allow_pickle=True)\n",
    "print(view_data)"
   ]
  },
  {
   "cell_type": "code",
   "execution_count": 4,
   "metadata": {
    "scrolled": true
   },
   "outputs": [],
   "source": [
    "# from dependencies import *\n",
    "# from understanding_human_strategy.code.dependencies import *\n",
    "\n",
    "\n",
    "class HiddenMarkovModel:\n",
    "    '''\n",
    "    Class implementation of Hidden Markov Models.\n",
    "    '''\n",
    "\n",
    "    def __init__(self, A, O):\n",
    "        '''\n",
    "        Initializes an HMM. Assumes the following:\n",
    "            - States and observations are integers starting from 0.\n",
    "            - There is a start state (see notes on A_start below). There\n",
    "              is no integer associated with the start state, only\n",
    "              probabilities in the vector A_start.\n",
    "            - There is no end state.\n",
    "        Arguments:\n",
    "            A:          Transition matrix with dimensions L x L.\n",
    "                        The (i, j)^th element is the probability of\n",
    "                        transitioning from state i to state j. Note that\n",
    "                        this does not include the starting probabilities.\n",
    "            O:          Observation matrix with dimensions L x D.\n",
    "                        The (i, j)^th element is the probability of\n",
    "                        emitting observation j given state i.\n",
    "        Parameters:\n",
    "            L:          Number of states.\n",
    "\n",
    "            D:          Number of observations.\n",
    "\n",
    "            A:          The transition matrix.\n",
    "\n",
    "            O:          The observation matrix.\n",
    "\n",
    "            A_start:    Starting transition probabilities. The i^th element\n",
    "                        is the probability of transitioning from the start\n",
    "                        state to state i. For simplicity, we assume that\n",
    "                        this distribution is uniform.\n",
    "        '''\n",
    "\n",
    "        self.L = len(A)\n",
    "        self.D = len(O[0])\n",
    "        self.A = A\n",
    "        self.O = O\n",
    "        self.A_start = [1. / self.L for _ in range(self.L)]\n",
    "\n",
    "    def viterbi(self, x):\n",
    "        '''\n",
    "        Uses the Viterbi algorithm to find the max probability state\n",
    "        sequence corresponding to a given input sequence.\n",
    "        Arguments:\n",
    "            x:          Input sequence in the form of a list of length M,\n",
    "                        consisting of integers ranging from 0 to D - 1.\n",
    "        Returns:\n",
    "            max_seq:    State sequence corresponding to x with the highest\n",
    "                        probability.\n",
    "        '''\n",
    "\n",
    "        M = len(x)  # Length of sequence.\n",
    "\n",
    "        # The (i, j)^th elements of probs and seqs are the max probability\n",
    "        # of the prefix of length i ending in state j and the prefix\n",
    "        # that gives this probability, respectively.\n",
    "        #\n",
    "        # For instance, probs[1][0] is the probability of the prefix of\n",
    "        # length 1 ending in state 0.\n",
    "        probs = [[0. for _ in range(self.L)] for _ in range(M + 1)]\n",
    "        seqs = [['' for _ in range(self.L)] for _ in range(M + 1)]\n",
    "\n",
    "        num_states = self.L\n",
    "        num_obs = self.D\n",
    "\n",
    "        # y = OBSERVATIONS (D) BY x = STATES (L)\n",
    "\n",
    "        # Set start state transitions to be A_start.\n",
    "        probs[0] = self.A_start\n",
    "        for t in range(1, M + 1):\n",
    "            for o_curr in range(num_states):\n",
    "                # For first state after the state state, only multiply the previous\n",
    "                # probability by emission probability.\n",
    "                if t == 1:\n",
    "                    checkVal = np.array(probs[t - 1]) * self.O[o_curr][x[t - 1]]\n",
    "                    # Set the maximum probability to be the value at the next probs[i, j] and\n",
    "                    # add the max probability sequence to seqs.\n",
    "                    probs[t][o_curr] = max(checkVal)\n",
    "                    add = []\n",
    "                    for j in range(num_states):\n",
    "                        add.append(str(j))\n",
    "                    seqs[t] = add\n",
    "\n",
    "                else:\n",
    "                    # For other states, multiply the previous\n",
    "                    # max probability by the emission and transition probability.\n",
    "                    checkVal = np.multiply(probs[t - 1], np.transpose(self.A)[o_curr]) * self.O[o_curr][x[t - 1]]\n",
    "                    max_index = np.argmax(checkVal)\n",
    "                    # Set the maximum probability to be the value at the next probs[i, j] and\n",
    "                    # add the max probability sequence to seqs.\n",
    "                    probs[t][o_curr] = max(checkVal)\n",
    "                    add = seqs[t - 1][max_index] + str(o_curr)\n",
    "                    seqs[t][o_curr] = add\n",
    "\n",
    "        # Get the maximum probability and max probability sequence.\n",
    "        # print(f'probs[M]= {probs[M]}, seqs[M] = {seqs[M]}')\n",
    "        max_prob_i = np.argmax(probs[M])\n",
    "        max_seq = seqs[M][max_prob_i]\n",
    "\n",
    "        return max_seq\n",
    "\n",
    "    def viterbi_all_probs(self, x):\n",
    "        '''\n",
    "        Uses the Viterbi algorithm to find the max probability state\n",
    "        sequence corresponding to a given input sequence.\n",
    "        Arguments:\n",
    "            x:          Input sequence in the form of a list of length M,\n",
    "                        consisting of integers ranging from 0 to D - 1.\n",
    "        Returns:\n",
    "            max_seq:    State sequence corresponding to x with the highest\n",
    "                        probability.\n",
    "        '''\n",
    "\n",
    "        M = len(x)  # Length of sequence.\n",
    "\n",
    "        # The (i, j)^th elements of probs and seqs are the max probability\n",
    "        # of the prefix of length i ending in state j and the prefix\n",
    "        # that gives this probability, respectively.\n",
    "        #\n",
    "        # For instance, probs[1][0] is the probability of the prefix of\n",
    "        # length 1 ending in state 0.\n",
    "        probs = [[0. for _ in range(self.L)] for _ in range(M + 1)]\n",
    "        seqs = [['' for _ in range(self.L)] for _ in range(M + 1)]\n",
    "\n",
    "        num_states = self.L\n",
    "        num_obs = self.D\n",
    "\n",
    "        # y = OBSERVATIONS (D) BY x = STATES (L)\n",
    "\n",
    "\n",
    "        # Fill hidden sequences dictionary\n",
    "        # all_sequences_and_probs = {}\n",
    "        # probs[0] = self.A_start\n",
    "        # for t in range(1, M + 1):\n",
    "        #     for o_curr in range(num_states):\n",
    "        #         if t == 1:\n",
    "        #             checkVal = np.array(probs[t - 1]) * self.O[o_curr][x[t - 1]]\n",
    "        #             # Set the maximum probability to be the value at the next probs[i, j] and\n",
    "        #             # add the max probability sequence to seqs.\n",
    "        #             probs[t][o_curr] = max(checkVal)\n",
    "        #             add = []\n",
    "        #             for j in range(num_states):\n",
    "        #                 add.append(str(j))\n",
    "        #             seqs[t] = add\n",
    "        #\n",
    "        #             all_sequences_and_probs[\"\".join(add)] = max(checkVal)\n",
    "        #\n",
    "        #\n",
    "        #\n",
    "        #         else:\n",
    "        #             # For other states, multiply the previous\n",
    "        #             # max probability by the emission and transition probability.\n",
    "        #             checkVal = np.multiply(probs[t - 1], np.transpose(self.A)[o_curr]) * self.O[o_curr][x[t - 1]]\n",
    "        #             max_index = np.argmax(checkVal)\n",
    "        #             # Set the maximum probability to be the value at the next probs[i, j] and\n",
    "        #             # add the max probability sequence to seqs.\n",
    "        #             probs[t][o_curr] = max(checkVal)\n",
    "        #             add = seqs[t - 1][max_index] + str(o_curr)\n",
    "        #             seqs[t][o_curr] = add\n",
    "        #\n",
    "        #             # for index_i in range(len(checkVal)):\n",
    "        #             #     string_add = seqs[t - 1][index_i] + str(o_curr)\n",
    "        #             #     all_sequences_and_probs[\"\".join(string_add)] = checkVal[index_i]\n",
    "        #\n",
    "\n",
    "        # Set start state transitions to be A_start.\n",
    "        all_sequences_and_probs = {}\n",
    "        probs[0] = self.A_start\n",
    "        for t in range(1, M + 1):\n",
    "            for o_curr in range(num_states):\n",
    "\n",
    "\n",
    "                # For first state after the state state, only multiply the previous\n",
    "                # probability by emission probability.\n",
    "                if t == 1:\n",
    "                    checkVal = np.array(probs[t - 1]) * self.O[o_curr][x[t - 1]]\n",
    "                    # Set the maximum probability to be the value at the next probs[i, j] and\n",
    "                    # add the max probability sequence to seqs.\n",
    "                    probs[t][o_curr] = max(checkVal)\n",
    "                    add = []\n",
    "                    for j in range(num_states):\n",
    "                        add.append(str(j))\n",
    "                    seqs[t] = add\n",
    "\n",
    "                    all_sequences_and_probs[\"\".join(add)] = max(checkVal)\n",
    "\n",
    "\n",
    "\n",
    "                else:\n",
    "                    # For other states, multiply the previous\n",
    "                    # max probability by the emission and transition probability.\n",
    "                    checkVal = np.multiply(probs[t - 1], np.transpose(self.A)[o_curr]) * self.O[o_curr][x[t - 1]]\n",
    "                    max_index = np.argmax(checkVal)\n",
    "                    # Set the maximum probability to be the value at the next probs[i, j] and\n",
    "                    # add the max probability sequence to seqs.\n",
    "                    probs[t][o_curr] = max(checkVal)\n",
    "                    add = seqs[t - 1][max_index] + str(o_curr)\n",
    "                    seqs[t][o_curr] = add\n",
    "\n",
    "                    for index_i in range(len(checkVal)):\n",
    "                        string_add = seqs[t - 1][index_i] + str(o_curr)\n",
    "                        all_sequences_and_probs[\"\".join(string_add)] = checkVal[index_i]\n",
    "\n",
    "        # Get the maximum probability and max probability sequence.\n",
    "        # print(f'probs= {probs}, seqs = {seqs}\\n\\n')\n",
    "        # print('all_sequences_and_probs', all_sequences_and_probs)\n",
    "        max_prob_i = np.argmax(probs[M])\n",
    "        max_seq = seqs[M][max_prob_i]\n",
    "\n",
    "        return max_seq, all_sequences_and_probs\n",
    "\n",
    "\n",
    "\n",
    "    def forward(self, x, normalize=False):\n",
    "        '''\n",
    "        Uses the forward algorithm to calculate the alpha probability\n",
    "        vectors corresponding to a given input sequence.\n",
    "        Arguments:\n",
    "            x:          Input sequence in the form of a list of length M,\n",
    "                        consisting of integers ranging from 0 to D - 1.\n",
    "            normalize:  Whether to normalize each set of alpha_j(i) vectors\n",
    "                        at each i. This is useful to avoid underflow in\n",
    "                        unsupervised learning.\n",
    "        Returns:\n",
    "            alphas:     Vector of alphas.\n",
    "                        The (i, j)^th element of alphas is alpha_j(i),\n",
    "                        i.e. the probability of observing prefix x^1:i\n",
    "                        and state y^i = j.\n",
    "                        e.g. alphas[1][0] corresponds to the probability\n",
    "                        of observing x^1:1, i.e. the first observation,\n",
    "                        given that y^1 = 0, i.e. the first state is 0.\n",
    "        '''\n",
    "\n",
    "        M = len(x)  # Length of sequence.\n",
    "        alphas = [[0. for _ in range(self.L)] for _ in range(M + 1)]\n",
    "\n",
    "        num_states = self.L\n",
    "        num_obs = self.D\n",
    "        alphas[0] = self.A_start\n",
    "\n",
    "        for t in range(1, M + 1):\n",
    "            for o_curr in range(num_states):\n",
    "                # For each state, multiply the previous\n",
    "                # max probability by the emission and transition probability, set alphas\n",
    "                # to be the sum of probabilities.\n",
    "                if t == 1:\n",
    "                    checkVal = np.array(alphas[t - 1]) * self.O[o_curr][x[t - 1]] * self.A_start[0]\n",
    "                    alphas[t][o_curr] = sum(checkVal)\n",
    "\n",
    "                else:\n",
    "                    checkVal = np.multiply(alphas[t - 1], np.transpose(self.A)[o_curr]) * self.O[o_curr][x[t - 1]]\n",
    "                    max_index = np.argmax(checkVal)\n",
    "                    alphas[t][o_curr] = sum(checkVal)\n",
    "\n",
    "        return alphas\n",
    "\n",
    "    def backward(self, x, normalize=False):\n",
    "        '''\n",
    "        Uses the backward algorithm to calculate the beta probability\n",
    "        vectors corresponding to a given input sequence.\n",
    "        Arguments:\n",
    "            x:          Input sequence in the form of a list of length M,\n",
    "                        consisting of integers ranging from 0 to D - 1.\n",
    "            normalize:  Whether to normalize each set of alpha_j(i) vectors\n",
    "                        at each i. This is useful to avoid underflow in\n",
    "                        unsupervised learning.\n",
    "        Returns:\n",
    "            betas:      Vector of betas.\n",
    "                        The (i, j)^th element of betas is beta_j(i), i.e.\n",
    "                        the probability of observing prefix x^(i+1):M and\n",
    "                        state y^i = j.\n",
    "                        e.g. betas[M][0] corresponds to the probability\n",
    "                        of observing x^M+1:M, i.e. no observations,\n",
    "                        given that y^M = 0, i.e. the last state is 0.\n",
    "        '''\n",
    "\n",
    "        M = len(x)  # Length of sequence.\n",
    "        betas = [[0. for _ in range(self.L)] for _ in range(M + 1)]\n",
    "\n",
    "        num_states = self.L\n",
    "        num_obs = self.D\n",
    "\n",
    "        # Initialize end probabilities to be 1.\n",
    "        for i in range(num_states):\n",
    "            betas[M][i] = 1\n",
    "\n",
    "        t = M - 1\n",
    "\n",
    "        while t >= 0:\n",
    "            for o_curr in range(num_states):\n",
    "                # Take the sum of the previous probability times the\n",
    "                # transition and emission probabilities.\n",
    "                checkVal = 0\n",
    "                for i in range(len(self.A)):\n",
    "                    checkVal += (betas[t + 1][i] * self.A[o_curr][i]) * self.O[i][x[t]]\n",
    "                betas[t][o_curr] = checkVal\n",
    "            t -= 1\n",
    "\n",
    "        return betas\n",
    "\n",
    "    def supervised_learning(self, X, Y):\n",
    "        '''\n",
    "        Trains the HMM using the Maximum Likelihood closed form solutions\n",
    "        for the transition and observation matrices on a labeled\n",
    "        datset (X, Y). Note that this method does not return anything, but\n",
    "        instead updates the attributes of the HMM object.\n",
    "        Arguments:\n",
    "            X:          A dataset consisting of input sequences in the form\n",
    "                        of lists of variable length, consisting of integers\n",
    "                        ranging from 0 to D - 1. In other words, a list of\n",
    "                        lists.\n",
    "            Y:          A dataset consisting of state sequences in the form\n",
    "                        of lists of variable length, consisting of integers\n",
    "                        ranging from 0 to L - 1. In other words, a list of\n",
    "                        lists.\n",
    "                        Note that the elements in X line up with those in Y.\n",
    "        '''\n",
    "\n",
    "        # Calculate each element of A using the M-step formulas.\n",
    "        N = len(X)\n",
    "\n",
    "        for a in range(len(self.A)):\n",
    "            for b in range(len(self.A[0])):\n",
    "                sum2_num = 0\n",
    "                sum2_denom = 0\n",
    "                for i in range(N):\n",
    "                    sum1_num = 0\n",
    "                    sum1_denom = 0\n",
    "                    # Compute each marginal probability.\n",
    "                    for j in range(1, len(Y[i])):\n",
    "                        if Y[i][j - 1] == a:\n",
    "                            sum1_denom += 1\n",
    "                        if Y[i][j - 1] == a and Y[i][j] == b:\n",
    "                            sum1_num += 1\n",
    "                    sum2_num += sum1_num\n",
    "                    sum2_denom += sum1_denom\n",
    "\n",
    "                if sum2_denom == 0:\n",
    "                    self.A[a][b] = 0\n",
    "                else:\n",
    "                    self.A[a][b] = sum2_num / sum2_denom\n",
    "\n",
    "        # Calculate each element of O using the M-step formulas.\n",
    "        for w in range(len(self.O[0])):\n",
    "            for a in range(len(self.O)):\n",
    "                sum2_numerator = 0\n",
    "                sum2_denom = 0\n",
    "                for i in range(0, N):\n",
    "                    sum1_numerator = 0\n",
    "                    sum1_denom = 0\n",
    "                    # Compute each marginal probability.\n",
    "                    for j in range(len(Y[i])):\n",
    "                        if Y[i][j] == a:\n",
    "                            sum1_denom += 1\n",
    "                            if X[i][j] == w:\n",
    "                                sum1_numerator += 1\n",
    "                    sum2_numerator += sum1_numerator\n",
    "                    sum2_denom += sum1_denom\n",
    "                if sum2_denom == 0:\n",
    "                    self.O[a][w] = 0\n",
    "                else:\n",
    "                    self.O[a][w] = sum2_numerator / sum2_denom\n",
    "\n",
    "    # Compute the marginal probabilities for the numerator of O,\n",
    "    # and denominators of O and A.\n",
    "    def P_with_1Y(self, j, a, b, alphas, betas):\n",
    "        numerator = alphas[j][a] * betas[j][a]\n",
    "        summation = 0\n",
    "        for p in range(self.L):\n",
    "            summation += alphas[j][p] * betas[j][p]\n",
    "        if summation == 0:\n",
    "            return 0\n",
    "        return numerator / summation\n",
    "\n",
    "    # Compute the marginal probability for the numerator of A.\n",
    "    def P_with_2Y(self, x, j, a, b, alphas, betas):\n",
    "\n",
    "        intermediate = 0\n",
    "        for x_idx in range(len(x)):\n",
    "            intermediate += self.O[b][x[x_idx]]\n",
    "\n",
    "        numerator = alphas[j][a] * self.O[b][x[j]] * self.A[a][b] * betas[j + 1][b]\n",
    "\n",
    "        summation = 0\n",
    "        for a_idx in range(self.L):\n",
    "            for b_idx in range(self.L):\n",
    "                summation += alphas[j][a_idx] * self.O[b_idx][x[j]] * self.A[a_idx][b_idx] * betas[j + 1][b_idx]\n",
    "\n",
    "        if summation == 0:\n",
    "            return 0\n",
    "\n",
    "        return numerator / summation\n",
    "\n",
    "    def unsupervised_learning(self, X, N_iters=1000):\n",
    "        '''\n",
    "        Trains the HMM using the Baum-Welch algorithm on an unlabeled\n",
    "        datset X. Note that this method does not return anything, but\n",
    "        instead updates the attributes of the HMM object.\n",
    "        Arguments:\n",
    "            X:          A dataset consisting of input sequences in the form\n",
    "                        of lists of length M, consisting of integers ranging\n",
    "                        from 0 to D - 1. In other words, a list of lists.\n",
    "            N_iters:    The number of iterations to train on.\n",
    "        '''\n",
    "        # N = len(X)\n",
    "        # print(\"shape of X\", len(X), len(X[0]))\n",
    "\n",
    "        for n_iter in range(N_iters):\n",
    "            # print('iteration', n_iter)\n",
    "\n",
    "            # Make temporary arrays to hold A and O values.\n",
    "            A_num = np.zeros((len(self.A), len(self.A[0])))\n",
    "            A_den = np.zeros((len(self.A), len(self.A[0])))\n",
    "            O_num = np.zeros((len(self.O), len(self.O[0])))\n",
    "            O_den = np.zeros((len(self.O), len(self.O[0])))\n",
    "\n",
    "            for x in X:\n",
    "                # Compute alphas and betas.\n",
    "                alphas = self.forward(x)\n",
    "                betas = self.backward(x)\n",
    "\n",
    "                M = len(x)\n",
    "\n",
    "                # Compute A denominator values first.\n",
    "                for j in range(1, M + 1):\n",
    "                    for a in range(len(self.A)):\n",
    "                        for b in range(len(self.A[0])):\n",
    "                            A_den[a][b] += self.P_with_1Y(j, a, b, alphas, betas)\n",
    "\n",
    "                # Compute O numerator and denominator values next.\n",
    "                for j in range(1, M):\n",
    "                    for w in range(len(self.O[0])):\n",
    "                        for a in range(len(self.O)):\n",
    "                            O_den[a][w] += self.P_with_1Y(j, a, b, alphas, betas)\n",
    "                            if x[j - 1] == w:\n",
    "                                O_num[a][w] += self.P_with_1Y(j, a, b, alphas, betas)\n",
    "\n",
    "                # Compute A numerator values next.\n",
    "                for j in range(1, M - 1):\n",
    "                    for a in range(len(self.A)):\n",
    "                        for b in range(len(self.A[0])):\n",
    "                            A_num[a][b] += self.P_with_2Y(x, j, a, b, alphas, betas)\n",
    "\n",
    "            # Set new A and O matrix values by dividing numerator over denominator values.\n",
    "            for a in range(len(self.A)):\n",
    "                for b in range(len(self.A[0])):\n",
    "                    if A_den[a][b] == 0:\n",
    "                        self.A[a][b] = 0\n",
    "                    else:\n",
    "                        self.A[a][b] = A_num[a][b] / A_den[a][b]\n",
    "\n",
    "            for w in range(len(self.O[0])):\n",
    "                for a in range(len(self.O)):\n",
    "                    if O_den[a][w] == 0:\n",
    "                        self.O[a][w] = 0\n",
    "                    else:\n",
    "                        self.O[a][w] = O_num[a][w] / O_den[a][w]\n",
    "\n",
    "    def generate_emission(self, M):\n",
    "        '''\n",
    "        Generates an emission of length M, assuming that the starting state\n",
    "        is chosen uniformly at random.\n",
    "        Arguments:\n",
    "            M:          Length of the emission to generate.\n",
    "        Returns:\n",
    "            emission:   The randomly generated emission as a list.\n",
    "            states:     The randomly generated states as a list.\n",
    "        '''\n",
    "\n",
    "        emission = []\n",
    "        states = []\n",
    "        # Randomly select a state state.\n",
    "        current_state = np.random.randint(len(self.A))\n",
    "\n",
    "        # For an emission of length M\n",
    "        for m in range(M):\n",
    "            current_A = self.A[current_state]\n",
    "            rand_prob_A = np.random.uniform(0, 1)\n",
    "\n",
    "            next_state = 0\n",
    "            # Find the next state by randomly picking a\n",
    "            # probability between 0 and 1. If this\n",
    "            # probability falls in the range for a particular state,\n",
    "            # assign that state to be the next state.\n",
    "            for a1 in range(len(current_A)):\n",
    "                sum_A = 0\n",
    "                for a2 in range(a1):\n",
    "                    sum_A += current_A[a2]\n",
    "                if sum_A > rand_prob_A:\n",
    "                    break\n",
    "                next_state = a1\n",
    "            current_state = next_state\n",
    "\n",
    "            # Find the next observation emission by randomly picking a\n",
    "            # probability between 0 and 1. If this\n",
    "            # probability falls in the range for a particular emission for\n",
    "            # the current state,\n",
    "            # assign that emission to be the emission.\n",
    "            next_emission = 0\n",
    "            current_O = self.O[current_state]\n",
    "            rand_prob_O = np.random.uniform(0, 1)\n",
    "            for o1 in range(len(current_O)):\n",
    "                sum_O = 0\n",
    "                for o2 in range(o1):\n",
    "                    sum_O += current_O[o2]\n",
    "                if sum_O > rand_prob_O:\n",
    "                    break\n",
    "                next_emission = o1\n",
    "\n",
    "            # Add the new state and new emission to the lists.\n",
    "\n",
    "            states.append(current_state)\n",
    "            emission.append(next_emission)\n",
    "\n",
    "        return emission, states\n",
    "\n",
    "    def probability_alphas(self, x):\n",
    "        '''\n",
    "        Finds the maximum probability of a given input sequence using\n",
    "        the forward algorithm.\n",
    "        Arguments:\n",
    "            x:          Input sequence in the form of a list of length M,\n",
    "                        consisting of integers ranging from 0 to D - 1.\n",
    "        Returns:\n",
    "            prob:       Total probability that x can occur.\n",
    "        '''\n",
    "\n",
    "        # Calculate alpha vectors.\n",
    "        alphas = self.forward(x)\n",
    "\n",
    "        # alpha_j(M) gives the probability that the state sequence ends\n",
    "        # in j. Summing this value over all possible states j gives the\n",
    "        # total probability of x paired with any state sequence, i.e.\n",
    "        # the probability of x.\n",
    "        prob = sum(alphas[-1])\n",
    "        return prob\n",
    "\n",
    "    def probability_betas(self, x):\n",
    "        '''\n",
    "        Finds the maximum probability of a given input sequence using\n",
    "        the backward algorithm.\n",
    "        Arguments:\n",
    "            x:          Input sequence in the form of a list of length M,\n",
    "                        consisting of integers ranging from 0 to D - 1.\n",
    "        Returns:\n",
    "            prob:       Total probability that x can occur.\n",
    "        '''\n",
    "\n",
    "        betas = self.backward(x)\n",
    "\n",
    "        # beta_j(1) gives the probability that the state sequence starts\n",
    "        # with j. Summing this, multiplied by the starting transition\n",
    "        # probability and the observation probability, over all states\n",
    "        # gives the total probability of x paired with any state\n",
    "        # sequence, i.e. the probability of x.\n",
    "        prob = sum([betas[1][j] * self.A_start[j] * self.O[j][x[0]] \\\n",
    "                    for j in range(self.L)])\n",
    "\n",
    "        return prob\n",
    "\n",
    "\n",
    "def supervised_HMM(X, Y):\n",
    "    '''\n",
    "    Helper function to train a supervised HMM. The function determines the\n",
    "    number of unique states and observations in the given data, initializes\n",
    "    the transition and observation matrices, creates the HMM, and then runs\n",
    "    the training function for supervised learning.\n",
    "    Arguments:\n",
    "        X:          A dataset consisting of input sequences in the form\n",
    "                    of lists of variable length, consisting of integers\n",
    "                    ranging from 0 to D - 1. In other words, a list of lists.\n",
    "        Y:          A dataset consisting of state sequences in the form\n",
    "                    of lists of variable length, consisting of integers\n",
    "                    ranging from 0 to L - 1. In other words, a list of lists.\n",
    "                    Note that the elements in X line up with those in Y.\n",
    "    '''\n",
    "    # Make a set of observations.\n",
    "    observations = set()\n",
    "    for x in X:\n",
    "        observations |= set(x)\n",
    "\n",
    "    # Make a set of states.\n",
    "    states = set()\n",
    "    for y in Y:\n",
    "        states |= set(y)\n",
    "\n",
    "    # Compute L and D.\n",
    "    L = len(states)\n",
    "    D = len(observations)\n",
    "\n",
    "    # Randomly initialize and normalize matrix A.\n",
    "    A = [[random.random() for i in range(L)] for j in range(L)]\n",
    "\n",
    "    for i in range(len(A)):\n",
    "        norm = sum(A[i])\n",
    "        for j in range(len(A[i])):\n",
    "            A[i][j] /= norm\n",
    "\n",
    "    # Randomly initialize and normalize matrix O.\n",
    "    O = [[random.random() for i in range(D)] for j in range(L)]\n",
    "\n",
    "    for i in range(len(O)):\n",
    "        norm = sum(O[i])\n",
    "        for j in range(len(O[i])):\n",
    "            O[i][j] /= norm\n",
    "\n",
    "    # Train an HMM with labeled data.\n",
    "    HMM = HiddenMarkovModel(A, O)\n",
    "    HMM.supervised_learning(X, Y)\n",
    "\n",
    "    return HMM\n",
    "\n",
    "\n",
    "def unsupervised_HMM(X, n_states, N_iters):\n",
    "    '''\n",
    "    Helper function to train an unsupervised HMM. The function determines the\n",
    "    number of unique observations in the given data, initializes\n",
    "    the transition and observation matrices, creates the HMM, and then runs\n",
    "    the training function for unsupervised learing.\n",
    "    Arguments:\n",
    "        X:          A dataset consisting of input sequences in the form\n",
    "                    of lists of variable length, consisting of integers\n",
    "                    ranging from 0 to D - 1. In other words, a list of lists.\n",
    "        n_states:   Number of hidden states to use in training.\n",
    "\n",
    "        N_iters:    The number of iterations to train on.\n",
    "    '''\n",
    "\n",
    "    # Make a set of observations.\n",
    "    observations = set()\n",
    "    for x in X:\n",
    "        observations |= set(x)\n",
    "\n",
    "    # Compute L and D.\n",
    "    L = n_states\n",
    "    D = len(observations)\n",
    "\n",
    "    # Randomly initialize and normalize matrix A.\n",
    "    A = [[random.random() for i in range(L)] for j in range(L)]\n",
    "\n",
    "    for i in range(len(A)):\n",
    "        norm = sum(A[i])\n",
    "        for j in range(len(A[i])):\n",
    "            A[i][j] /= norm\n",
    "\n",
    "    # Randomly initialize and normalize matrix O.\n",
    "    O = [[random.random() for i in range(D)] for j in range(L)]\n",
    "\n",
    "    for i in range(len(O)):\n",
    "        norm = sum(O[i])\n",
    "        for j in range(len(O[i])):\n",
    "            O[i][j] /= norm\n",
    "\n",
    "    # random.seed(420)\n",
    "    # A = [[random.random() for i in range(L)] for j in range(L)]\n",
    "\n",
    "    # # Randomly initialize and normalize matrix O.\n",
    "    # random.seed(69)\n",
    "    # O = [[random.random() for i in range(D)] for j in range(L)]\n",
    "\n",
    "    # Train an HMM with unlabeled data.\n",
    "    HMM = HiddenMarkovModel(A, O)\n",
    "    HMM.unsupervised_learning(X, N_iters)\n",
    "\n",
    "    return HMM\n",
    "\n",
    "\n",
    "def visualize_sparsities(hmm, O_max_cols=50, O_vmax=0.1):\n",
    "    plt.close('all')\n",
    "    plt.set_cmap('viridis')\n",
    "\n",
    "    # Visualize sparsity of A.\n",
    "    plt.imshow(hmm.A, vmax=1.0)\n",
    "    plt.colorbar()\n",
    "    plt.title('Sparsity of A matrix')\n",
    "    plt.show()\n",
    "\n",
    "    # Visualize parsity of O.\n",
    "    plt.imshow(np.array(hmm.O)[:, :O_max_cols], vmax=O_vmax, aspect='auto')\n",
    "    plt.colorbar()\n",
    "    plt.title('Sparsity of O matrix')\n",
    "    plt.show()\n",
    "\n",
    "\n",
    "\n",
    "\n",
    "\n",
    "\n",
    "\n"
   ]
  },
  {
   "cell_type": "code",
   "execution_count": 7,
   "metadata": {
    "scrolled": true
   },
   "outputs": [
    {
     "ename": "KeyError",
     "evalue": "'walk_mean'",
     "output_type": "error",
     "traceback": [
      "\u001b[0;31m---------------------------------------------------------------------------\u001b[0m",
      "\u001b[0;31mKeyError\u001b[0m                                  Traceback (most recent call last)",
      "\u001b[0;32m~/miniconda3/lib/python3.7/site-packages/pandas/core/indexes/base.py\u001b[0m in \u001b[0;36mget_loc\u001b[0;34m(self, key, method, tolerance)\u001b[0m\n\u001b[1;32m   3360\u001b[0m             \u001b[0;32mtry\u001b[0m\u001b[0;34m:\u001b[0m\u001b[0;34m\u001b[0m\u001b[0;34m\u001b[0m\u001b[0m\n\u001b[0;32m-> 3361\u001b[0;31m                 \u001b[0;32mreturn\u001b[0m \u001b[0mself\u001b[0m\u001b[0;34m.\u001b[0m\u001b[0m_engine\u001b[0m\u001b[0;34m.\u001b[0m\u001b[0mget_loc\u001b[0m\u001b[0;34m(\u001b[0m\u001b[0mcasted_key\u001b[0m\u001b[0;34m)\u001b[0m\u001b[0;34m\u001b[0m\u001b[0;34m\u001b[0m\u001b[0m\n\u001b[0m\u001b[1;32m   3362\u001b[0m             \u001b[0;32mexcept\u001b[0m \u001b[0mKeyError\u001b[0m \u001b[0;32mas\u001b[0m \u001b[0merr\u001b[0m\u001b[0;34m:\u001b[0m\u001b[0;34m\u001b[0m\u001b[0;34m\u001b[0m\u001b[0m\n",
      "\u001b[0;32m~/miniconda3/lib/python3.7/site-packages/pandas/_libs/index.pyx\u001b[0m in \u001b[0;36mpandas._libs.index.IndexEngine.get_loc\u001b[0;34m()\u001b[0m\n",
      "\u001b[0;32m~/miniconda3/lib/python3.7/site-packages/pandas/_libs/index.pyx\u001b[0m in \u001b[0;36mpandas._libs.index.IndexEngine.get_loc\u001b[0;34m()\u001b[0m\n",
      "\u001b[0;32mpandas/_libs/hashtable_class_helper.pxi\u001b[0m in \u001b[0;36mpandas._libs.hashtable.PyObjectHashTable.get_item\u001b[0;34m()\u001b[0m\n",
      "\u001b[0;32mpandas/_libs/hashtable_class_helper.pxi\u001b[0m in \u001b[0;36mpandas._libs.hashtable.PyObjectHashTable.get_item\u001b[0;34m()\u001b[0m\n",
      "\u001b[0;31mKeyError\u001b[0m: 'walk_mean'",
      "\nThe above exception was the direct cause of the following exception:\n",
      "\u001b[0;31mKeyError\u001b[0m                                  Traceback (most recent call last)",
      "\u001b[0;32m<ipython-input-7-094decdedd06>\u001b[0m in \u001b[0;36m<module>\u001b[0;34m\u001b[0m\n\u001b[1;32m      1\u001b[0m \u001b[0mmap_letter\u001b[0m \u001b[0;34m=\u001b[0m \u001b[0;34m'A'\u001b[0m\u001b[0;34m\u001b[0m\u001b[0;34m\u001b[0m\u001b[0m\n\u001b[1;32m      2\u001b[0m \u001b[0;34m\u001b[0m\u001b[0m\n\u001b[0;32m----> 3\u001b[0;31m \u001b[0mglobal_mean_walking\u001b[0m \u001b[0;34m=\u001b[0m \u001b[0mnp\u001b[0m\u001b[0;34m.\u001b[0m\u001b[0mmean\u001b[0m\u001b[0;34m(\u001b[0m\u001b[0mdf\u001b[0m\u001b[0;34m[\u001b[0m\u001b[0;34m'walk_mean'\u001b[0m\u001b[0;34m]\u001b[0m\u001b[0;34m)\u001b[0m\u001b[0;34m\u001b[0m\u001b[0;34m\u001b[0m\u001b[0m\n\u001b[0m\u001b[1;32m      4\u001b[0m \u001b[0mglobal_mean_anxiety\u001b[0m \u001b[0;34m=\u001b[0m \u001b[0mnp\u001b[0m\u001b[0;34m.\u001b[0m\u001b[0mmean\u001b[0m\u001b[0;34m(\u001b[0m\u001b[0mdf\u001b[0m\u001b[0;34m[\u001b[0m\u001b[0;34m'Anxiety_average'\u001b[0m\u001b[0;34m]\u001b[0m\u001b[0;34m)\u001b[0m\u001b[0;34m\u001b[0m\u001b[0;34m\u001b[0m\u001b[0m\n\u001b[1;32m      5\u001b[0m \u001b[0;34m\u001b[0m\u001b[0m\n",
      "\u001b[0;32m~/miniconda3/lib/python3.7/site-packages/pandas/core/frame.py\u001b[0m in \u001b[0;36m__getitem__\u001b[0;34m(self, key)\u001b[0m\n\u001b[1;32m   3456\u001b[0m             \u001b[0;32mif\u001b[0m \u001b[0mself\u001b[0m\u001b[0;34m.\u001b[0m\u001b[0mcolumns\u001b[0m\u001b[0;34m.\u001b[0m\u001b[0mnlevels\u001b[0m \u001b[0;34m>\u001b[0m \u001b[0;36m1\u001b[0m\u001b[0;34m:\u001b[0m\u001b[0;34m\u001b[0m\u001b[0;34m\u001b[0m\u001b[0m\n\u001b[1;32m   3457\u001b[0m                 \u001b[0;32mreturn\u001b[0m \u001b[0mself\u001b[0m\u001b[0;34m.\u001b[0m\u001b[0m_getitem_multilevel\u001b[0m\u001b[0;34m(\u001b[0m\u001b[0mkey\u001b[0m\u001b[0;34m)\u001b[0m\u001b[0;34m\u001b[0m\u001b[0;34m\u001b[0m\u001b[0m\n\u001b[0;32m-> 3458\u001b[0;31m             \u001b[0mindexer\u001b[0m \u001b[0;34m=\u001b[0m \u001b[0mself\u001b[0m\u001b[0;34m.\u001b[0m\u001b[0mcolumns\u001b[0m\u001b[0;34m.\u001b[0m\u001b[0mget_loc\u001b[0m\u001b[0;34m(\u001b[0m\u001b[0mkey\u001b[0m\u001b[0;34m)\u001b[0m\u001b[0;34m\u001b[0m\u001b[0;34m\u001b[0m\u001b[0m\n\u001b[0m\u001b[1;32m   3459\u001b[0m             \u001b[0;32mif\u001b[0m \u001b[0mis_integer\u001b[0m\u001b[0;34m(\u001b[0m\u001b[0mindexer\u001b[0m\u001b[0;34m)\u001b[0m\u001b[0;34m:\u001b[0m\u001b[0;34m\u001b[0m\u001b[0;34m\u001b[0m\u001b[0m\n\u001b[1;32m   3460\u001b[0m                 \u001b[0mindexer\u001b[0m \u001b[0;34m=\u001b[0m \u001b[0;34m[\u001b[0m\u001b[0mindexer\u001b[0m\u001b[0;34m]\u001b[0m\u001b[0;34m\u001b[0m\u001b[0;34m\u001b[0m\u001b[0m\n",
      "\u001b[0;32m~/miniconda3/lib/python3.7/site-packages/pandas/core/indexes/base.py\u001b[0m in \u001b[0;36mget_loc\u001b[0;34m(self, key, method, tolerance)\u001b[0m\n\u001b[1;32m   3361\u001b[0m                 \u001b[0;32mreturn\u001b[0m \u001b[0mself\u001b[0m\u001b[0;34m.\u001b[0m\u001b[0m_engine\u001b[0m\u001b[0;34m.\u001b[0m\u001b[0mget_loc\u001b[0m\u001b[0;34m(\u001b[0m\u001b[0mcasted_key\u001b[0m\u001b[0;34m)\u001b[0m\u001b[0;34m\u001b[0m\u001b[0;34m\u001b[0m\u001b[0m\n\u001b[1;32m   3362\u001b[0m             \u001b[0;32mexcept\u001b[0m \u001b[0mKeyError\u001b[0m \u001b[0;32mas\u001b[0m \u001b[0merr\u001b[0m\u001b[0;34m:\u001b[0m\u001b[0;34m\u001b[0m\u001b[0;34m\u001b[0m\u001b[0m\n\u001b[0;32m-> 3363\u001b[0;31m                 \u001b[0;32mraise\u001b[0m \u001b[0mKeyError\u001b[0m\u001b[0;34m(\u001b[0m\u001b[0mkey\u001b[0m\u001b[0;34m)\u001b[0m \u001b[0;32mfrom\u001b[0m \u001b[0merr\u001b[0m\u001b[0;34m\u001b[0m\u001b[0;34m\u001b[0m\u001b[0m\n\u001b[0m\u001b[1;32m   3364\u001b[0m \u001b[0;34m\u001b[0m\u001b[0m\n\u001b[1;32m   3365\u001b[0m         \u001b[0;32mif\u001b[0m \u001b[0mis_scalar\u001b[0m\u001b[0;34m(\u001b[0m\u001b[0mkey\u001b[0m\u001b[0;34m)\u001b[0m \u001b[0;32mand\u001b[0m \u001b[0misna\u001b[0m\u001b[0;34m(\u001b[0m\u001b[0mkey\u001b[0m\u001b[0;34m)\u001b[0m \u001b[0;32mand\u001b[0m \u001b[0;32mnot\u001b[0m \u001b[0mself\u001b[0m\u001b[0;34m.\u001b[0m\u001b[0mhasnans\u001b[0m\u001b[0;34m:\u001b[0m\u001b[0;34m\u001b[0m\u001b[0;34m\u001b[0m\u001b[0m\n",
      "\u001b[0;31mKeyError\u001b[0m: 'walk_mean'"
     ]
    }
   ],
   "source": [
    "map_letter = 'A'\n",
    "\n",
    "global_mean_walking = np.mean(df['walk_mean'])\n",
    "global_mean_anxiety = np.mean(df['Anxiety_average'])\n",
    "\n",
    "print(\"global_mean_walking\", global_mean_walking)\n",
    "print(\"global_mean_anxiety\", global_mean_anxiety)\n",
    "\n",
    "\n",
    "\n",
    "teams_list = list(df['team_id'].unique())\n",
    "print(\"teams_list\", teams_list)\n"
   ]
  },
  {
   "cell_type": "code",
   "execution_count": 6,
   "metadata": {
    "scrolled": true
   },
   "outputs": [
    {
     "ename": "KeyError",
     "evalue": "'skilluse1_SaturnA'",
     "output_type": "error",
     "traceback": [
      "\u001b[0;31m---------------------------------------------------------------------------\u001b[0m",
      "\u001b[0;31mKeyError\u001b[0m                                  Traceback (most recent call last)",
      "\u001b[0;32m~/miniconda3/lib/python3.7/site-packages/pandas/core/indexes/base.py\u001b[0m in \u001b[0;36mget_loc\u001b[0;34m(self, key, method, tolerance)\u001b[0m\n\u001b[1;32m   3360\u001b[0m             \u001b[0;32mtry\u001b[0m\u001b[0;34m:\u001b[0m\u001b[0;34m\u001b[0m\u001b[0;34m\u001b[0m\u001b[0m\n\u001b[0;32m-> 3361\u001b[0;31m                 \u001b[0;32mreturn\u001b[0m \u001b[0mself\u001b[0m\u001b[0;34m.\u001b[0m\u001b[0m_engine\u001b[0m\u001b[0;34m.\u001b[0m\u001b[0mget_loc\u001b[0m\u001b[0;34m(\u001b[0m\u001b[0mcasted_key\u001b[0m\u001b[0;34m)\u001b[0m\u001b[0;34m\u001b[0m\u001b[0;34m\u001b[0m\u001b[0m\n\u001b[0m\u001b[1;32m   3362\u001b[0m             \u001b[0;32mexcept\u001b[0m \u001b[0mKeyError\u001b[0m \u001b[0;32mas\u001b[0m \u001b[0merr\u001b[0m\u001b[0;34m:\u001b[0m\u001b[0;34m\u001b[0m\u001b[0;34m\u001b[0m\u001b[0m\n",
      "\u001b[0;32m~/miniconda3/lib/python3.7/site-packages/pandas/_libs/index.pyx\u001b[0m in \u001b[0;36mpandas._libs.index.IndexEngine.get_loc\u001b[0;34m()\u001b[0m\n",
      "\u001b[0;32m~/miniconda3/lib/python3.7/site-packages/pandas/_libs/index.pyx\u001b[0m in \u001b[0;36mpandas._libs.index.IndexEngine.get_loc\u001b[0;34m()\u001b[0m\n",
      "\u001b[0;32mpandas/_libs/hashtable_class_helper.pxi\u001b[0m in \u001b[0;36mpandas._libs.hashtable.PyObjectHashTable.get_item\u001b[0;34m()\u001b[0m\n",
      "\u001b[0;32mpandas/_libs/hashtable_class_helper.pxi\u001b[0m in \u001b[0;36mpandas._libs.hashtable.PyObjectHashTable.get_item\u001b[0;34m()\u001b[0m\n",
      "\u001b[0;31mKeyError\u001b[0m: 'skilluse1_SaturnA'",
      "\nThe above exception was the direct cause of the following exception:\n",
      "\u001b[0;31mKeyError\u001b[0m                                  Traceback (most recent call last)",
      "\u001b[0;32m<ipython-input-6-15890eeef430>\u001b[0m in \u001b[0;36m<module>\u001b[0;34m\u001b[0m\n\u001b[1;32m     16\u001b[0m     \u001b[0;32mfor\u001b[0m \u001b[0mt\u001b[0m \u001b[0;32min\u001b[0m \u001b[0mrange\u001b[0m\u001b[0;34m(\u001b[0m\u001b[0;36m1\u001b[0m\u001b[0;34m,\u001b[0m \u001b[0;36m16\u001b[0m\u001b[0;34m)\u001b[0m\u001b[0;34m:\u001b[0m\u001b[0;34m\u001b[0m\u001b[0;34m\u001b[0m\u001b[0m\n\u001b[1;32m     17\u001b[0m         \u001b[0mkeyname\u001b[0m \u001b[0;34m=\u001b[0m \u001b[0;34mf'skilluse{t}_Saturn{map_letter}'\u001b[0m\u001b[0;34m\u001b[0m\u001b[0;34m\u001b[0m\u001b[0m\n\u001b[0;32m---> 18\u001b[0;31m         \u001b[0maverage_minute_skill\u001b[0m\u001b[0;34m[\u001b[0m\u001b[0mmap_letter\u001b[0m\u001b[0;34m]\u001b[0m\u001b[0;34m[\u001b[0m\u001b[0mt\u001b[0m\u001b[0;34m]\u001b[0m\u001b[0;34m.\u001b[0m\u001b[0mextend\u001b[0m\u001b[0;34m(\u001b[0m\u001b[0mlist\u001b[0m\u001b[0;34m(\u001b[0m\u001b[0mdf\u001b[0m\u001b[0;34m[\u001b[0m\u001b[0mkeyname\u001b[0m\u001b[0;34m]\u001b[0m\u001b[0;34m.\u001b[0m\u001b[0mto_numpy\u001b[0m\u001b[0;34m(\u001b[0m\u001b[0;34m)\u001b[0m\u001b[0;34m)\u001b[0m\u001b[0;34m)\u001b[0m\u001b[0;34m\u001b[0m\u001b[0;34m\u001b[0m\u001b[0m\n\u001b[0m\u001b[1;32m     19\u001b[0m         \u001b[0mkeyname\u001b[0m \u001b[0;34m=\u001b[0m \u001b[0;34mf'workload_burnt{t}_Saturn{map_letter}'\u001b[0m\u001b[0;34m\u001b[0m\u001b[0;34m\u001b[0m\u001b[0m\n\u001b[1;32m     20\u001b[0m         \u001b[0maverage_minute_workload\u001b[0m\u001b[0;34m[\u001b[0m\u001b[0mmap_letter\u001b[0m\u001b[0;34m]\u001b[0m\u001b[0;34m[\u001b[0m\u001b[0mt\u001b[0m\u001b[0;34m]\u001b[0m\u001b[0;34m.\u001b[0m\u001b[0mextend\u001b[0m\u001b[0;34m(\u001b[0m\u001b[0mlist\u001b[0m\u001b[0;34m(\u001b[0m\u001b[0mdf\u001b[0m\u001b[0;34m[\u001b[0m\u001b[0mkeyname\u001b[0m\u001b[0;34m]\u001b[0m\u001b[0;34m.\u001b[0m\u001b[0mto_numpy\u001b[0m\u001b[0;34m(\u001b[0m\u001b[0;34m)\u001b[0m\u001b[0;34m)\u001b[0m\u001b[0;34m)\u001b[0m\u001b[0;34m\u001b[0m\u001b[0;34m\u001b[0m\u001b[0m\n",
      "\u001b[0;32m~/miniconda3/lib/python3.7/site-packages/pandas/core/frame.py\u001b[0m in \u001b[0;36m__getitem__\u001b[0;34m(self, key)\u001b[0m\n\u001b[1;32m   3456\u001b[0m             \u001b[0;32mif\u001b[0m \u001b[0mself\u001b[0m\u001b[0;34m.\u001b[0m\u001b[0mcolumns\u001b[0m\u001b[0;34m.\u001b[0m\u001b[0mnlevels\u001b[0m \u001b[0;34m>\u001b[0m \u001b[0;36m1\u001b[0m\u001b[0;34m:\u001b[0m\u001b[0;34m\u001b[0m\u001b[0;34m\u001b[0m\u001b[0m\n\u001b[1;32m   3457\u001b[0m                 \u001b[0;32mreturn\u001b[0m \u001b[0mself\u001b[0m\u001b[0;34m.\u001b[0m\u001b[0m_getitem_multilevel\u001b[0m\u001b[0;34m(\u001b[0m\u001b[0mkey\u001b[0m\u001b[0;34m)\u001b[0m\u001b[0;34m\u001b[0m\u001b[0;34m\u001b[0m\u001b[0m\n\u001b[0;32m-> 3458\u001b[0;31m             \u001b[0mindexer\u001b[0m \u001b[0;34m=\u001b[0m \u001b[0mself\u001b[0m\u001b[0;34m.\u001b[0m\u001b[0mcolumns\u001b[0m\u001b[0;34m.\u001b[0m\u001b[0mget_loc\u001b[0m\u001b[0;34m(\u001b[0m\u001b[0mkey\u001b[0m\u001b[0;34m)\u001b[0m\u001b[0;34m\u001b[0m\u001b[0;34m\u001b[0m\u001b[0m\n\u001b[0m\u001b[1;32m   3459\u001b[0m             \u001b[0;32mif\u001b[0m \u001b[0mis_integer\u001b[0m\u001b[0;34m(\u001b[0m\u001b[0mindexer\u001b[0m\u001b[0;34m)\u001b[0m\u001b[0;34m:\u001b[0m\u001b[0;34m\u001b[0m\u001b[0;34m\u001b[0m\u001b[0m\n\u001b[1;32m   3460\u001b[0m                 \u001b[0mindexer\u001b[0m \u001b[0;34m=\u001b[0m \u001b[0;34m[\u001b[0m\u001b[0mindexer\u001b[0m\u001b[0;34m]\u001b[0m\u001b[0;34m\u001b[0m\u001b[0;34m\u001b[0m\u001b[0m\n",
      "\u001b[0;32m~/miniconda3/lib/python3.7/site-packages/pandas/core/indexes/base.py\u001b[0m in \u001b[0;36mget_loc\u001b[0;34m(self, key, method, tolerance)\u001b[0m\n\u001b[1;32m   3361\u001b[0m                 \u001b[0;32mreturn\u001b[0m \u001b[0mself\u001b[0m\u001b[0;34m.\u001b[0m\u001b[0m_engine\u001b[0m\u001b[0;34m.\u001b[0m\u001b[0mget_loc\u001b[0m\u001b[0;34m(\u001b[0m\u001b[0mcasted_key\u001b[0m\u001b[0;34m)\u001b[0m\u001b[0;34m\u001b[0m\u001b[0;34m\u001b[0m\u001b[0m\n\u001b[1;32m   3362\u001b[0m             \u001b[0;32mexcept\u001b[0m \u001b[0mKeyError\u001b[0m \u001b[0;32mas\u001b[0m \u001b[0merr\u001b[0m\u001b[0;34m:\u001b[0m\u001b[0;34m\u001b[0m\u001b[0;34m\u001b[0m\u001b[0m\n\u001b[0;32m-> 3363\u001b[0;31m                 \u001b[0;32mraise\u001b[0m \u001b[0mKeyError\u001b[0m\u001b[0;34m(\u001b[0m\u001b[0mkey\u001b[0m\u001b[0;34m)\u001b[0m \u001b[0;32mfrom\u001b[0m \u001b[0merr\u001b[0m\u001b[0;34m\u001b[0m\u001b[0;34m\u001b[0m\u001b[0m\n\u001b[0m\u001b[1;32m   3364\u001b[0m \u001b[0;34m\u001b[0m\u001b[0m\n\u001b[1;32m   3365\u001b[0m         \u001b[0;32mif\u001b[0m \u001b[0mis_scalar\u001b[0m\u001b[0;34m(\u001b[0m\u001b[0mkey\u001b[0m\u001b[0;34m)\u001b[0m \u001b[0;32mand\u001b[0m \u001b[0misna\u001b[0m\u001b[0;34m(\u001b[0m\u001b[0mkey\u001b[0m\u001b[0;34m)\u001b[0m \u001b[0;32mand\u001b[0m \u001b[0;32mnot\u001b[0m \u001b[0mself\u001b[0m\u001b[0;34m.\u001b[0m\u001b[0mhasnans\u001b[0m\u001b[0;34m:\u001b[0m\u001b[0;34m\u001b[0m\u001b[0;34m\u001b[0m\u001b[0m\n",
      "\u001b[0;31mKeyError\u001b[0m: 'skilluse1_SaturnA'"
     ]
    }
   ],
   "source": [
    "average_minute_skill = {}\n",
    "average_minute_workload = {}\n",
    "average_minute_effort = {}\n",
    "\n",
    "for map_letter in ['A', 'B']:\n",
    "    average_minute_skill[map_letter] = {}\n",
    "    average_minute_workload[map_letter] = {}\n",
    "    average_minute_effort[map_letter] = {}\n",
    "    for t in range(1, 16):\n",
    "        average_minute_skill[map_letter][t] = []\n",
    "        average_minute_workload[map_letter][t] = []\n",
    "        average_minute_effort[map_letter][t] = []\n",
    "        \n",
    "\n",
    "for map_letter in ['A', 'B']:\n",
    "    for t in range(1, 16):\n",
    "        keyname = f'skilluse{t}_Saturn{map_letter}'\n",
    "        average_minute_skill[map_letter][t].extend(list(df[keyname].to_numpy()))\n",
    "        keyname = f'workload_burnt{t}_Saturn{map_letter}'\n",
    "        average_minute_workload[map_letter][t].extend(list(df[keyname].to_numpy()))\n",
    "        keyname = f'effort{t}_Saturn{map_letter}'\n",
    "        average_minute_effort[map_letter][t].extend(list(df[keyname].to_numpy()))\n",
    "    \n",
    "\n",
    "for map_letter in ['A', 'B']:\n",
    "    for t in range(1, 16):\n",
    "        average_minute_skill[map_letter][t] = np.mean(average_minute_skill[map_letter][t])\n",
    "\n"
   ]
  },
  {
   "cell_type": "code",
   "execution_count": 18,
   "metadata": {
    "scrolled": true
   },
   "outputs": [],
   "source": [
    "# Classify teams into 4 groups\n",
    "\n",
    "\n",
    "# Group 1 = High Walking, High Anxiety\n",
    "# Group 2 = Low Walking, High Anxiety\n",
    "# Group 3 = High Walking, Low Anxiety\n",
    "# Group 4 = Low Walking, Low Anxiety\n",
    "\n",
    "teams_list = df['team_id'].to_numpy()\n",
    "\n",
    "\n",
    "team_walking = df['walk_mean'].to_numpy()\n",
    "team_anxiety = df['Anxiety_average'].to_numpy()\n",
    "\n",
    "team_id_to_group = {}\n",
    "group_to_teams = {1:[], 2:[], 3:[], 4:[]}\n",
    "\n",
    "for i in range(len(teams_list)):\n",
    "    team_id = teams_list[i]\n",
    "    walk = team_walking[i]\n",
    "    anx = team_anxiety[i]\n",
    "    if walk >= global_mean_walking:\n",
    "        if anx >= global_mean_anxiety:\n",
    "            group = 1\n",
    "        else:\n",
    "            group = 3\n",
    "    else:\n",
    "        if anx >= global_mean_anxiety:\n",
    "            group = 2\n",
    "        else:\n",
    "            group = 4\n",
    "\n",
    "    team_id_to_group[team_id] = group\n",
    "    group_to_teams[group].append(team_id)\n",
    "    \n"
   ]
  },
  {
   "cell_type": "code",
   "execution_count": 40,
   "metadata": {
    "scrolled": true
   },
   "outputs": [],
   "source": [
    "group_no = 1\n",
    "teams_in_group = group_to_teams[group_no]\n",
    "\n",
    "# Get Minute by Minute Averages for Group\n",
    "average_minute_skill = {}\n",
    "average_minute_workload = {}\n",
    "average_minute_effort = {}\n",
    "\n",
    "for map_letter in ['A', 'B']:\n",
    "    average_minute_skill[map_letter] = {}\n",
    "    average_minute_workload[map_letter] = {}\n",
    "    average_minute_effort[map_letter] = {}\n",
    "    for t in range(1, 16):\n",
    "        average_minute_skill[map_letter][t] = []\n",
    "        average_minute_workload[map_letter][t] = []\n",
    "        average_minute_effort[map_letter][t] = []\n",
    "        \n",
    "\n",
    "for map_letter in ['A', 'B']:\n",
    "    for t in range(1, 16):\n",
    "        team_df = df[df['team_id'].isin(teams_in_group)]\n",
    "        \n",
    "        keyname = f'skilluse{t}_Saturn{map_letter}'\n",
    "        average_minute_skill[map_letter][t].extend(list(team_df[keyname].to_numpy()))\n",
    "        keyname = f'workload_burnt{t}_Saturn{map_letter}'\n",
    "        average_minute_workload[map_letter][t].extend(list(team_df[keyname].to_numpy()))\n",
    "        keyname = f'effort{t}_Saturn{map_letter}'\n",
    "        average_minute_effort[map_letter][t].extend(list(team_df[keyname].to_numpy()))\n",
    "    \n",
    "\n",
    "for map_letter in ['A', 'B']:\n",
    "    for t in range(1, 16):\n",
    "        average_minute_skill[map_letter][t] = np.mean(average_minute_skill[map_letter][t])\n",
    "        average_minute_workload[map_letter][t] = np.mean(average_minute_workload[map_letter][t])\n",
    "        average_minute_effort[map_letter][t] = np.mean(average_minute_effort[map_letter][t])\n",
    "\n",
    "# Get team minute binary values and unique states\n",
    "team_to_state = {}\n",
    "unique_states = []\n",
    "for team_id in teams_in_group:\n",
    "    team_to_state[team_id] = {}\n",
    "    for map_letter in ['A', 'B']:\n",
    "        state_vector = []\n",
    "        for t in range(1, 16):\n",
    "            keyname = f'skilluse{t}_Saturn{map_letter}'\n",
    "            skill = df[df['team_id']==team_id][keyname].to_numpy()[0]\n",
    "            if skill < average_minute_skill[map_letter][t]:\n",
    "                skill = 0\n",
    "            else:\n",
    "                skill = 1\n",
    "            \n",
    "            keyname = f'workload_burnt{t}_Saturn{map_letter}'\n",
    "            workload = df[df['team_id']==team_id][keyname].to_numpy()[0]\n",
    "            if workload < average_minute_workload[map_letter][t]:\n",
    "                workload = 0\n",
    "            else:\n",
    "                workload = 1\n",
    "            \n",
    "            keyname = f'effort{t}_Saturn{map_letter}'\n",
    "            effort = df[df['team_id']==team_id][keyname].to_numpy()[0]\n",
    "            if effort < average_minute_effort[map_letter][t]:\n",
    "                effort = 0\n",
    "            else:\n",
    "                effort = 1\n",
    "            \n",
    "            state = (skill, workload, effort)\n",
    "            state_vector.append(state)\n",
    "            unique_states.append(state)\n",
    "            \n",
    "        team_to_state[team_id][map_letter] = state_vector\n",
    "        \n",
    "        \n"
   ]
  },
  {
   "cell_type": "code",
   "execution_count": 41,
   "metadata": {
    "scrolled": true
   },
   "outputs": [],
   "source": [
    "\n",
    "unique_states_list = list(set(unique_states))\n",
    "\n",
    "state_id_to_state = dict(enumerate(unique_states_list))\n",
    "state_to_state_id = {v: k for k, v in state_id_to_state.items()}\n",
    "\n",
    "\n"
   ]
  },
  {
   "cell_type": "code",
   "execution_count": 64,
   "metadata": {
    "scrolled": true
   },
   "outputs": [],
   "source": [
    "team_to_state_id_sequence = {}\n",
    "team_id_map_to_state_id_sequence = {}\n",
    "for team_no in team_to_state:\n",
    "    team_to_state_id_sequence[team_no] = {}\n",
    "    for map_letter in ['A', 'B']: \n",
    "        state_seq = [state_to_state_id[x] for x in team_to_state[team_no][map_letter]]\n",
    "        team_to_state_id_sequence[team_no][map_letter] = state_seq\n",
    "        team_id_map_to_state_id_sequence[(team_no, map_letter)] = team_to_state[team_no][map_letter]\n",
    "\n",
    "\n"
   ]
  },
  {
   "cell_type": "code",
   "execution_count": 49,
   "metadata": {
    "scrolled": true
   },
   "outputs": [
    {
     "data": {
      "text/plain": [
       "(30, 15)"
      ]
     },
     "execution_count": 49,
     "metadata": {},
     "output_type": "execute_result"
    }
   ],
   "source": [
    "hmm_input_X = []\n",
    "index_to_team_map = {}\n",
    "counter = 0\n",
    "for team_no in team_to_state_id_sequence:\n",
    "    for map_letter in ['A', 'B']: \n",
    "        hmm_input_X.append(team_to_state_id_sequence[team_no][map_letter])\n",
    "        index_to_team_map[counter] = (team_no, map_letter)\n",
    "        counter += 1\n",
    "\n",
    "hmm_input_X = np.array(hmm_input_X)\n",
    "hmm_input_X.shape\n",
    "    "
   ]
  },
  {
   "cell_type": "code",
   "execution_count": 52,
   "metadata": {
    "scrolled": true
   },
   "outputs": [],
   "source": [
    "N_iters = 100\n",
    "n_states = 5\n",
    "\n",
    "test_unsuper_hmm = unsupervised_HMM(hmm_input_X, n_states, N_iters)\n",
    "\n",
    "# print('emission', test_unsuper_hmm.generate_emission(10))\n",
    "hidden_seqs = {}\n",
    "team_num_to_seq_probs = {}\n",
    "for j in range(len(hmm_input_X)):\n",
    "    # print(\"team\", team_numbers[j])\n",
    "    # print(\"reindex\", X[j][:50])\n",
    "    team_id_map = index_to_team_map[j]\n",
    "    viterbi_output, all_sequences_and_probs = test_unsuper_hmm.viterbi_all_probs(hmm_input_X[j])\n",
    "    team_num_to_seq_probs[team_id_map] = all_sequences_and_probs\n",
    "    hidden_seqs[team_id_map] = [int(x) for x in viterbi_output]\n",
    "    \n",
    "    "
   ]
  },
  {
   "cell_type": "code",
   "execution_count": 11,
   "metadata": {
    "scrolled": true
   },
   "outputs": [],
   "source": [
    "\n",
    "\n",
    "def visualize_sparsities(A, O):\n",
    "    plt.close('all')\n",
    "    plt.set_cmap('Reds')\n",
    "\n",
    "    # Visualize sparsity of A.\n",
    "    plt.imshow(A, vmax=1.0)\n",
    "    plt.colorbar()\n",
    "    plt.title('Sparsity of A matrix')\n",
    "    plt.show()\n",
    "\n",
    "    # Visualize parsity of O.\n",
    "    plt.imshow(np.array(O)[:, :], aspect='auto')\n",
    "    plt.colorbar()\n",
    "    plt.title('Sparsity of O matrix')\n",
    "    plt.show()\n",
    "\n",
    "\n",
    "\n"
   ]
  },
  {
   "cell_type": "code",
   "execution_count": 9,
   "metadata": {
    "scrolled": true
   },
   "outputs": [],
   "source": [
    "# 5 hidden states\n",
    "\n",
    "N_iters = 100\n",
    "n_states = 5\n",
    "\n",
    "hmm_input_X = np.load('../src/salad_data.npy', allow_pickle=True) # TODO: change this filepath to /data/\n",
    "hmm_input_X.shape\n",
    "\n",
    "test_unsuper_hmm = unsupervised_HMM(hmm_input_X, n_states, N_iters)"
   ]
  },
  {
   "cell_type": "code",
   "execution_count": 10,
   "metadata": {},
   "outputs": [
    {
     "data": {
      "image/png": "[encoded data removed]",
      "text/plain": [
       "<Figure size 432x288 with 2 Axes>"
      ]
     },
     "metadata": {
      "needs_background": "light"
     },
     "output_type": "display_data"
    },
    {
     "data": {
      "image/png": "[encoded data removed]",
      "text/plain": [
       "<Figure size 432x288 with 2 Axes>"
      ]
     },
     "metadata": {
      "needs_background": "light"
     },
     "output_type": "display_data"
    }
   ],
   "source": [
    "A = test_unsuper_hmm.A\n",
    "O = test_unsuper_hmm.O\n",
    "visualize_sparsities(A, O)"
   ]
  },
  {
   "cell_type": "code",
   "execution_count": 10,
   "metadata": {
    "scrolled": true
   },
   "outputs": [
    {
     "data": {
      "image/png": "[encoded data removed]",
      "text/plain": [
       "<Figure size 432x288 with 2 Axes>"
      ]
     },
     "metadata": {
      "needs_background": "light"
     },
     "output_type": "display_data"
    },
    {
     "data": {
      "image/png": "[encoded data removed]",
      "text/plain": [
       "<Figure size 432x288 with 2 Axes>"
      ]
     },
     "metadata": {
      "needs_background": "light"
     },
     "output_type": "display_data"
    }
   ],
   "source": [
    "# OLD\n",
    "\n",
    "A = test_unsuper_hmm.A\n",
    "O = test_unsuper_hmm.O\n",
    "visualize_sparsities(A, O)"
   ]
  },
  {
   "cell_type": "code",
   "execution_count": 8,
   "metadata": {
    "scrolled": true
   },
   "outputs": [],
   "source": [
    "# 10 hidden states\n",
    "\n",
    "N_iters = 100\n",
    "n_states = 10\n",
    "\n",
    "hmm_input_X = np.load('../src/salad_data.npy', allow_pickle=True) # TODO: change this filepath to /data/\n",
    "hmm_input_X.shape\n",
    "\n",
    "test_unsuper_hmm = unsupervised_HMM(hmm_input_X, n_states, N_iters)"
   ]
  },
  {
   "cell_type": "code",
   "execution_count": 9,
   "metadata": {
    "scrolled": true
   },
   "outputs": [
    {
     "data": {
      "image/png": "[encoded data removed]",
      "text/plain": [
       "<Figure size 432x288 with 2 Axes>"
      ]
     },
     "metadata": {
      "needs_background": "light"
     },
     "output_type": "display_data"
    },
    {
     "data": {
      "image/png": "[encoded data removed]",
      "text/plain": [
       "<Figure size 432x288 with 2 Axes>"
      ]
     },
     "metadata": {
      "needs_background": "light"
     },
     "output_type": "display_data"
    }
   ],
   "source": [
    "A = test_unsuper_hmm.A\n",
    "O = test_unsuper_hmm.O\n",
    "visualize_sparsities(A, O)"
   ]
  },
  {
   "cell_type": "code",
   "execution_count": 5,
   "metadata": {
    "scrolled": true
   },
   "outputs": [],
   "source": [
    "# 20 hidden states\n",
    "\n",
    "N_iters = 100\n",
    "n_states = 20\n",
    "\n",
    "hmm_input_X = np.load('../src/salad_data.npy', allow_pickle=True)\n",
    "hmm_input_X.shape\n",
    "\n",
    "test_unsuper_hmm = unsupervised_HMM(hmm_input_X, n_states, N_iters)"
   ]
  },
  {
   "cell_type": "code",
   "execution_count": null,
   "metadata": {},
   "outputs": [],
   "source": []
  },
  {
   "cell_type": "code",
   "execution_count": 12,
   "metadata": {},
   "outputs": [
    {
     "data": {
      "image/png": "[encoded data removed]",
      "text/plain": [
       "<Figure size 432x288 with 2 Axes>"
      ]
     },
     "metadata": {
      "needs_background": "light"
     },
     "output_type": "display_data"
    },
    {
     "data": {
      "image/png": "[encoded data removed]",
      "text/plain": [
       "<Figure size 432x288 with 2 Axes>"
      ]
     },
     "metadata": {
      "needs_background": "light"
     },
     "output_type": "display_data"
    }
   ],
   "source": [
    "A = test_unsuper_hmm.A\n",
    "O = test_unsuper_hmm.O\n",
    "visualize_sparsities(A, O)"
   ]
  },
  {
   "cell_type": "code",
   "execution_count": null,
   "metadata": {},
   "outputs": [],
   "source": []
  },
  {
   "cell_type": "code",
   "execution_count": 103,
   "metadata": {
    "scrolled": true
   },
   "outputs": [
    {
     "data": {
      "image/png": "[encoded data removed]",
      "text/plain": [
       "<Figure size 432x288 with 2 Axes>"
      ]
     },
     "metadata": {
      "needs_background": "light"
     },
     "output_type": "display_data"
    },
    {
     "data": {
      "image/png": "[encoded data removed]",
      "text/plain": [
       "<Figure size 432x288 with 2 Axes>"
      ]
     },
     "metadata": {
      "needs_background": "light"
     },
     "output_type": "display_data"
    }
   ],
   "source": [
    "A = test_unsuper_hmm.A\n",
    "O = test_unsuper_hmm.O\n",
    "visualize_sparsities(A, O)\n"
   ]
  },
  {
   "cell_type": "code",
   "execution_count": 17,
   "metadata": {},
   "outputs": [
    {
     "name": "stdout",
     "output_type": "stream",
     "text": [
      "[list([1, 0, 2, 3, 4, 5, 6, 7, 8, 9, 10, 11, 12, 13, 14, 15, 16, 17, 18, 20, 19, 21, 22, 23, 24, 25, 26, 27, 28, 29, 30, 32, 31, 33, 34, 35, 36, 37, 38, 39, 40, 41, 42, 43, 44, 45, 46, 48, 47, 49, 50, 51, 53, 52])\n",
      " list([1, 0, 2, 3, 4, 5, 6, 7, 8, 9, 22, 23, 24, 25, 26, 27, 10, 11, 12, 13, 14, 15, 16, 17, 18, 19, 20, 21, 28, 29, 30, 32, 35, 36, 37, 38, 39, 40, 41, 42, 43, 31, 33, 34, 44, 45, 46, 48, 51, 52, 53, 47, 49, 50])\n",
      " list([1, 16, 17, 18, 22, 23, 24, 16, 17, 18, 19, 20, 21, 25, 26, 27, 0, 2, 3, 4, 5, 6, 7, 8, 9, 10, 11, 12, 13, 14, 15, 28, 29, 30, 32, 41, 42, 43, 31, 33, 34, 35, 36, 37, 38, 39, 40, 44, 45, 46, 48, 51, 52, 53, 1, 28, 48, 49, 50])\n",
      " list([32, 31, 33, 34, 41, 42, 43, 38, 39, 40, 35, 36, 37, 44, 45, 46, 1, 10, 11, 12, 13, 14, 15, 16, 17, 19, 20, 21, 22, 23, 25, 26, 27, 0, 2, 3, 4, 5, 6, 7, 8, 9, 28, 29, 30, 47, 49, 50, 51, 52, 53, 48])\n",
      " list([32, 41, 31, 1, 48, 42, 43, 33, 34, 35, 36, 37, 44, 45, 46, 38, 39, 40, 44, 45, 46, 22, 23, 24, 25, 26, 27, 10, 11, 13, 14, 15, 0, 2, 3, 5, 4, 6, 7, 8, 9, 16, 17, 18, 20, 21, 28, 29, 30, 51, 52, 53, 1, 28, 29, 30, 48, 47, 49, 50])\n",
      " list([1, 32, 12, 10, 17, 18, 23, 38, 41, 42, 43, 31, 33, 34, 35, 36, 37, 39, 40, 44, 45, 46, 10, 11, 13, 14, 11, 13, 14, 16, 19, 20, 21, 22, 25, 26, 27])\n",
      " list([32, 41, 42, 43, 31, 33, 34, 35, 36, 37, 38, 39, 40, 44, 45, 46, 1, 10, 11, 12, 13, 14, 15, 10, 11, 13, 14, 15, 22, 23, 24, 25, 14, 15, 16, 17, 18, 20, 28, 29, 30, 0, 2, 3, 4, 5, 7, 6, 8, 9, 28, 29, 30, 48, 51, 52, 53, 1, 28, 29, 30, 48, 47, 49, 50])\n",
      " list([32, 1, 48, 38, 39, 40, 36, 35, 37, 41, 42, 31, 33, 34, 44, 45, 46, 17, 18, 10, 12, 2, 3, 0, 2, 3, 4, 5, 6, 22, 23, 51, 52, 53, 29, 1, 28, 48, 49, 47, 50, 43, 16, 11, 0, 7, 8, 9, 13, 14, 9, 8, 26, 25])\n",
      " list([32, 35, 36, 37, 38, 39, 40, 41, 42, 43, 31, 33, 34, 44, 45, 46, 1, 10, 11, 12, 13, 14, 15, 16, 17, 18, 19, 20, 21, 0, 2, 3, 5, 6, 7, 8, 9, 22, 23, 24, 25, 26, 27, 28, 29, 30, 48, 47, 49, 50, 51, 52, 53])\n",
      " list([32, 31, 33, 34, 35, 36, 37, 38, 39, 40, 41, 42, 43, 44, 45, 46, 1, 22, 23, 24, 25, 26, 24, 16, 17, 18, 19, 20, 21, 0, 2, 3, 4, 5, 6, 7, 8, 10, 9, 11, 12, 13, 11, 15, 28, 30, 29, 48, 51, 52, 53, 28, 29, 1, 30, 48, 47, 49, 50])\n",
      " list([32, 31, 33, 34, 41, 42, 43, 38, 39, 40, 35, 36, 37, 45, 46, 1, 22, 23, 24, 25, 26, 27, 10, 11, 12, 13, 14, 15, 0, 2, 3, 4, 5, 6, 0, 2, 3, 4, 5, 6, 7, 8, 9, 16, 17, 18, 19, 20, 21, 28, 29, 30, 48, 51, 52, 53, 47, 49, 50])\n",
      " list([32, 31, 33, 34, 41, 42, 43, 35, 36, 37, 38, 39, 40, 44, 45, 46, 1, 22, 23, 25, 26, 27, 10, 11, 13, 14, 15, 16, 17, 18, 19, 20, 21, 0, 2, 3, 4, 5, 6, 7, 8, 9, 29, 30, 48, 51, 52, 53, 1, 29, 48, 47, 49, 50])\n",
      " list([1, 0, 2, 3, 4, 5, 6, 7, 8, 10, 11, 12, 13, 14, 15, 22, 23, 24, 25, 26, 25, 26, 25, 26, 16, 17, 18, 19, 20, 28, 29, 10, 11, 12, 13, 14, 28, 29, 30, 32, 31, 33, 34, 41, 42, 43, 44, 45, 35, 46, 36, 37, 45, 46, 48, 47, 49, 50, 51, 52, 53])\n",
      " list([1, 0, 2, 3, 4, 5, 6, 7, 8, 9, 16, 17, 18, 20, 21, 22, 23, 24, 25, 26, 27, 10, 11, 12, 13, 14, 15, 29, 30, 32, 31, 33, 34, 43, 41, 42, 35, 36, 37, 38, 39, 40, 44, 45, 46, 48, 47, 50, 49, 51, 52, 53])\n",
      " list([32, 41, 42, 43, 31, 33, 34, 35, 36, 37, 38, 39, 40, 44, 45, 46, 1, 4, 5, 6, 7, 8, 9, 22, 23, 24, 25, 26, 27, 10, 11, 12, 13, 14, 15, 16, 17, 18, 19, 20, 27, 28, 29, 30, 48, 47, 49, 50, 51, 52, 53])\n",
      " list([32, 35, 36, 37, 38, 39, 40, 31, 33, 34, 41, 42, 43, 44, 45, 46, 1, 16, 17, 18, 22, 23, 24, 0, 2, 3, 4, 5, 6, 10, 11, 12, 7, 8, 9, 19, 20, 21, 13, 14, 15, 48, 51, 52, 53, 1, 29, 30, 48, 47, 49, 50])\n",
      " list([1, 22, 23, 24, 25, 26, 27, 11, 10, 12, 10, 11, 12, 13, 14, 15, 16, 17, 19, 18, 20, 21, 28, 29, 30, 32, 41, 42, 43, 31, 33, 34, 44, 45, 35, 46, 36, 37, 38, 39, 40, 45, 48, 47, 49, 50, 51, 52, 53])\n",
      " list([1, 22, 23, 24, 25, 26, 27, 16, 17, 18, 19, 21, 20, 0, 2, 3, 4, 5, 6, 7, 8, 9, 10, 11, 12, 13, 14, 15, 29, 30, 32, 31, 33, 34, 41, 42, 43, 35, 36, 37, 38, 39, 40, 44, 45, 47, 49, 50, 51, 52, 53, 48])\n",
      " list([32, 38, 39, 40, 35, 36, 37, 31, 33, 34, 41, 42, 43, 44, 45, 46, 1, 16, 17, 18, 0, 2, 3, 4, 5, 6, 10, 11, 12, 22, 23, 24, 7, 8, 9, 28, 19, 25, 13, 20, 26, 14, 21, 27, 15, 29, 30, 48, 51, 52, 53, 47, 49, 50])\n",
      " list([32, 41, 42, 43, 31, 33, 34, 35, 36, 37, 38, 39, 40, 44, 45, 46, 1, 48, 0, 2, 3, 4, 5, 6, 0, 2, 3, 4, 5, 7, 6, 8, 16, 17, 18, 19, 20, 10, 11, 12, 13, 14, 22, 23, 24, 25, 26, 22, 23, 24, 25, 26, 27, 28, 29, 30, 47, 49, 50, 51, 52, 53])\n",
      " list([32, 35, 36, 38, 37, 39, 40, 41, 42, 43, 31, 33, 34, 44, 45, 46, 1, 16, 17, 18, 19, 20, 21, 22, 23, 24, 25, 26, 27, 0, 2, 3, 4, 5, 6, 7, 8, 9, 10, 11, 12, 13, 14, 15, 28, 29, 30, 48, 51, 52, 53, 47, 49, 50])\n",
      " list([32, 31, 33, 34, 41, 42, 43, 35, 36, 45, 35, 36, 37, 38, 39, 40, 45, 46, 1, 22, 23, 24, 25, 26, 27, 22, 23, 24, 25, 26, 27, 10, 11, 12, 13, 14, 16, 17, 18, 19, 20, 21, 0, 2, 3, 4, 5, 6, 7, 8, 9, 28, 29, 30, 49, 50, 51, 52, 53, 48, 47])\n",
      " list([1, 11, 10, 12, 13, 14, 15, 17, 16, 18, 19, 20, 21, 22, 23, 24, 25, 26, 27, 0, 2, 3, 4, 5, 6, 7, 8, 9, 28, 29, 30, 32, 31, 33, 34, 41, 42, 43, 38, 39, 40, 35, 36, 37, 44, 45, 46, 48, 47, 49, 50, 51, 52, 53])\n",
      " list([1, 48, 10, 11, 13, 14, 0, 2, 3, 4, 5, 7, 8, 16, 17, 18, 19, 20, 22, 23, 24, 22, 23, 25, 26, 27, 28, 29, 30, 41, 42, 43, 31, 33, 34, 38, 39, 40, 35, 36, 37, 44, 32, 45, 46, 47, 49, 50])\n",
      " list([32, 38, 39, 40, 35, 36, 37, 41, 42, 43, 31, 33, 34, 1, 16, 17, 10, 18, 11, 12, 0, 2, 3, 4, 5, 6, 7, 19, 13, 8, 20, 14, 9, 21, 15, 28, 29, 48, 51, 30, 52, 53, 29, 30, 1, 28, 22, 23, 24, 25, 26, 28, 29, 30, 48, 47, 49, 50])\n",
      " list([1, 10, 11, 12, 13, 14, 0, 2, 3, 4, 5, 6, 7, 22, 23, 24, 25, 26, 16, 17, 18, 19, 20, 28, 29, 30, 32, 31, 33, 34, 38, 39, 40, 35, 36, 37, 44, 45, 46, 41, 43, 42, 44, 45, 46, 48, 47, 49, 50])\n",
      " list([32, 38, 39, 40, 35, 36, 37, 31, 33, 34, 41, 42, 43, 1, 22, 23, 24, 0, 2, 3, 4, 5, 6, 10, 11, 12, 16, 17, 18, 7, 19, 25, 13, 8, 20, 26, 14, 9, 21, 27, 15, 28, 29, 30, 48, 47, 49, 50, 51, 52, 53])\n",
      " list([1, 32, 1, 48, 17, 18, 11, 22, 23, 22, 23, 0, 5, 41, 42, 43, 31, 33, 34, 38, 39, 40, 35, 36, 37, 28, 29, 30, 47, 49, 50, 16, 19, 20, 21, 10, 11, 13, 14, 10, 13, 14, 28, 29, 30, 14, 15, 25, 26, 25, 26, 27, 2, 3, 4, 7, 8, 5, 7, 8, 9])\n",
      " list([1, 22, 23, 24, 25, 26, 27, 16, 17, 18, 19, 20, 21, 0, 2, 3, 4, 5, 6, 7, 8, 9, 10, 11, 12, 13, 14, 15, 28, 29, 30, 32, 38, 39, 40, 35, 36, 37, 41, 42, 43, 31, 33, 34, 44, 45, 46, 48, 47, 49, 50, 51, 52, 53])\n",
      " list([32, 31, 33, 34, 41, 42, 43, 35, 36, 37, 38, 39, 40, 44, 45, 46, 1, 22, 23, 24, 25, 26, 27, 10, 11, 12, 13, 14, 15, 16, 17, 18, 19, 20, 21, 0, 2, 3, 4, 5, 7, 8, 9, 28, 29, 30, 48, 47, 49, 50, 51, 52, 53])\n",
      " list([32, 31, 33, 34, 41, 42, 43, 38, 40, 39, 35, 36, 37, 44, 45, 46, 31, 33, 34, 44, 45, 46, 1, 22, 23, 24, 25, 26, 27, 22, 23, 24, 25, 26, 27, 10, 11, 12, 13, 14, 15, 16, 17, 18, 19, 20, 21, 0, 2, 3, 4, 6, 5, 7, 8, 9, 4, 5, 6, 7, 8, 9, 28, 29, 30, 48, 51, 52, 53, 49, 47, 50])\n",
      " list([1, 32, 48, 2, 3, 22, 23, 24, 17, 18, 10, 11, 28, 29, 30, 33, 31, 41, 42, 43, 35, 36, 37, 38, 39, 44, 45, 46, 47, 50, 49, 51, 52, 53, 0, 7, 8, 9, 25, 26, 16, 19, 20, 12, 14, 13, 34, 40])\n",
      " list([1, 16, 17, 18, 0, 2, 3, 4, 5, 6, 19, 20, 7, 8, 9, 10, 11, 13, 14, 15, 22, 23, 24, 25, 26, 27, 28, 29, 30, 41, 42, 43, 31, 33, 34, 35, 36, 37, 38, 39, 40, 44, 45, 32, 52, 53, 48, 51, 47, 49, 50])\n",
      " list([1, 22, 23, 24, 16, 17, 18, 10, 11, 12, 0, 2, 3, 4, 6, 5, 25, 27, 26, 13, 15, 14, 19, 20, 21, 7, 8, 29, 30, 32, 31, 33, 34, 41, 42, 43, 35, 36, 37, 39, 38, 40, 44, 45, 46, 48, 47, 49, 50, 51, 52, 53])\n",
      " list([4, 5, 6, 7, 8, 9, 4, 1, 5, 6, 7, 8, 9, 22, 23, 24, 25, 26, 27, 16, 17, 20, 21, 10, 11, 12, 13, 14, 15, 10, 11, 12, 13, 14, 15, 28, 29, 30, 32, 38, 39, 40, 31, 33, 34, 35, 36, 37, 41, 42, 43, 44, 45, 46, 48, 52, 53, 47, 49, 50])\n",
      " list([32, 31, 33, 34, 41, 42, 43, 38, 39, 40, 35, 36, 37, 44, 45, 46, 1, 0, 2, 3, 4, 5, 6, 22, 23, 24, 16, 17, 18, 10, 11, 12, 25, 26, 7, 8, 9, 13, 14, 15, 19, 20, 29, 30, 51, 52, 53, 48, 47, 49, 50])\n",
      " list([1, 0, 2, 3, 4, 5, 8, 9, 4, 5, 8, 9, 10, 11, 13, 14, 15, 10, 11, 12, 13, 14, 15, 16, 17, 18, 19, 20, 21, 22, 23, 24, 25, 26, 27, 31, 33, 34, 35, 36, 37, 38, 39, 40, 41, 42, 43, 44, 46, 32, 45, 1, 29, 48, 47, 49, 50, 51, 52, 53])\n",
      " list([32, 1, 31, 33, 34, 41, 42, 43, 35, 36, 37, 38, 39, 40, 44, 45, 46, 2, 3, 5, 6, 11, 12, 10, 11, 12, 17, 18, 22, 23, 24, 28, 29, 30, 0, 16, 48, 47, 49, 50, 51, 52, 53, 7, 8, 4, 7, 8, 10, 13, 14, 15, 13, 14, 19, 20, 25, 26])\n",
      " list([1, 10, 11, 13, 12, 14, 15, 16, 17, 18, 19, 21, 20, 0, 2, 3, 4, 5, 6, 8, 7, 9, 22, 24, 23, 25, 26, 27, 22, 23, 24, 25, 26, 27, 28, 29, 30, 32, 38, 39, 40, 31, 33, 34, 35, 36, 37, 41, 42, 43, 44, 45, 46, 48, 47, 49, 50])\n",
      " list([1, 22, 23, 24, 25, 26, 27, 16, 17, 18, 19, 20, 21, 10, 11, 12, 13, 14, 15, 0, 2, 3, 4, 5, 6, 7, 8, 9, 28, 29, 30, 32, 41, 42, 43, 31, 33, 34, 35, 36, 37, 38, 39, 40, 44, 45, 48, 52, 53, 47, 49, 50])]\n"
     ]
    }
   ],
   "source": [
    "salad_data_train = np.load('../src/salad_data_train.npy', allow_pickle=True)\n",
    "print(salad_data_train)"
   ]
  },
  {
   "cell_type": "code",
   "execution_count": 18,
   "metadata": {},
   "outputs": [],
   "source": [
    "N_iters = 100\n",
    "n_states = 20\n",
    "\n",
    "hmm_input_X = np.load('../src/salad_data_train.npy', allow_pickle=True)\n",
    "hmm_input_X.shape\n",
    "\n",
    "unsuper_hmm_train = unsupervised_HMM(hmm_input_X, n_states, N_iters)"
   ]
  },
  {
   "cell_type": "code",
   "execution_count": 19,
   "metadata": {},
   "outputs": [
    {
     "data": {
      "image/png": "[encoded data removed]",
      "text/plain": [
       "<Figure size 432x288 with 2 Axes>"
      ]
     },
     "metadata": {
      "needs_background": "light"
     },
     "output_type": "display_data"
    },
    {
     "data": {
      "image/png": "[encoded data removed]",
      "text/plain": [
       "<Figure size 432x288 with 2 Axes>"
      ]
     },
     "metadata": {
      "needs_background": "light"
     },
     "output_type": "display_data"
    }
   ],
   "source": [
    "A = unsuper_hmm_train.A\n",
    "O = unsuper_hmm_train.O\n",
    "visualize_sparsities(A, O)"
   ]
  },
  {
   "cell_type": "code",
   "execution_count": null,
   "metadata": {},
   "outputs": [],
   "source": [
    "# using synthetic data\n",
    "\n",
    "N_iters = 100\n",
    "n_states = 20\n",
    "\n",
    "hmm_input_X = np.load('../src/salad_data_synthetic.npy', allow_pickle=True)\n",
    "hmm_input_X.shape\n",
    "\n",
    "unsuper_hmm_train = unsupervised_HMM(hmm_input_X, n_states, N_iters)"
   ]
  },
  {
   "cell_type": "code",
   "execution_count": null,
   "metadata": {},
   "outputs": [],
   "source": [
    "A = unsuper_hmm_train.A\n",
    "O = unsuper_hmm_train.O\n",
    "visualize_sparsities(A, O)"
   ]
  },
  {
   "cell_type": "code",
   "execution_count": null,
   "metadata": {},
   "outputs": [],
   "source": []
  },
  {
   "cell_type": "code",
   "execution_count": null,
   "metadata": {},
   "outputs": [],
   "source": [
    "# calculate log likelihood\n",
    "\n",
    "import hmmlearn.hmm as hmm\n",
    "\n",
    "\n",
    "h = hmm.GaussianHMM(n_components=20, n_iter=1000).fit(hmm_input_X, 30)\n",
    "log_likelihood = h.score(np.reshape(hmm_input_X,[len(hmm_input_X),1]), lengths=30)\n",
    "print(log_likelihood)"
   ]
  },
  {
   "cell_type": "code",
   "execution_count": 57,
   "metadata": {
    "scrolled": true
   },
   "outputs": [
    {
     "data": {
      "image/png": "[encoded data removed]",
      "text/plain": [
       "<Figure size 432x288 with 1 Axes>"
      ]
     },
     "metadata": {
      "needs_background": "light"
     },
     "output_type": "display_data"
    }
   ],
   "source": [
    "# for team_id in hidden_seqs:\n",
    "# for i in range(len(index_to_team_map)):\n",
    "for i in range(5):\n",
    "    team_id = index_to_team_map[i]\n",
    "    plt.plot(range(len(hidden_seqs[team_id])), hidden_seqs[team_id])\n",
    "\n",
    "plt.legend(list(hidden_seqs.keys()))\n",
    "plt.show()\n",
    "\n",
    "\n"
   ]
  },
  {
   "cell_type": "code",
   "execution_count": 77,
   "metadata": {
    "scrolled": true
   },
   "outputs": [],
   "source": [
    "# hidden_state_to_mean_value = {1:[], 2:[], 3:[], 4:[]}\n",
    "hidden_state_to_mean_value_list = {}\n",
    "\n",
    "# team_id_map_to_state_id_sequence\n",
    "for team_id_map in hidden_seqs:\n",
    "    for i in range(len(hidden_seqs[team_id_map])):\n",
    "        hidden_state  = hidden_seqs[team_id_map][i]\n",
    "        state = team_id_map_to_state_id_sequence[team_id_map][i]\n",
    "        mean_value = sum(list(state))\n",
    "        \n",
    "        if hidden_state not in hidden_state_to_mean_value_list:\n",
    "            hidden_state_to_mean_value_list[hidden_state] = []\n",
    "        \n",
    "        hidden_state_to_mean_value_list[hidden_state].append(mean_value)\n",
    "\n"
   ]
  },
  {
   "cell_type": "code",
   "execution_count": 78,
   "metadata": {
    "scrolled": true
   },
   "outputs": [],
   "source": [
    "hidden_state_to_mean_value = {}\n",
    "for hidden_state in hidden_state_to_mean_value_list:\n",
    "    hidden_state_to_mean_value[hidden_state] = np.mean(hidden_state_to_mean_value_list[hidden_state])\n"
   ]
  },
  {
   "cell_type": "code",
   "execution_count": 79,
   "metadata": {
    "scrolled": true
   },
   "outputs": [
    {
     "data": {
      "image/png": "[encoded data removed]",
      "text/plain": [
       "<Figure size 432x288 with 1 Axes>"
      ]
     },
     "metadata": {
      "needs_background": "light"
     },
     "output_type": "display_data"
    }
   ],
   "source": [
    "labels = []\n",
    "for hidden_state in hidden_state_to_mean_value_list:\n",
    "    plt.hist(hidden_state_to_mean_value_list[hidden_state], alpha=0.5)\n",
    "    labels.append(hidden_state)\n",
    "    \n",
    "plt.legend(labels)\n",
    "plt.show()\n",
    "\n",
    "    \n",
    "    "
   ]
  },
  {
   "cell_type": "code",
   "execution_count": 80,
   "metadata": {
    "scrolled": true
   },
   "outputs": [
    {
     "data": {
      "text/plain": [
       "{4: 2.0285714285714285,\n",
       " 0: 2.9523809523809526,\n",
       " 1: 0.020618556701030927,\n",
       " 2: 1.3162393162393162,\n",
       " 3: 1.6266666666666667}"
      ]
     },
     "execution_count": 80,
     "metadata": {},
     "output_type": "execute_result"
    }
   ],
   "source": [
    "hidden_state_to_mean_value"
   ]
  },
  {
   "cell_type": "code",
   "execution_count": 83,
   "metadata": {
    "scrolled": true
   },
   "outputs": [],
   "source": [
    "sorted_hidden_states = {k: v for k, v in sorted(hidden_state_to_mean_value.items(), key=lambda item: item[1])}\n"
   ]
  },
  {
   "cell_type": "code",
   "execution_count": 86,
   "metadata": {
    "scrolled": true
   },
   "outputs": [],
   "source": [
    "new_hidden_state_to_old = dict(enumerate(sorted_hidden_states.keys()))\n",
    "old_hidden_state_to_new = {v: k for k, v in new_hidden_state_to_old.items()}"
   ]
  },
  {
   "cell_type": "code",
   "execution_count": 87,
   "metadata": {
    "scrolled": true
   },
   "outputs": [
    {
     "data": {
      "text/plain": [
       "{1: 0, 2: 1, 3: 2, 4: 3, 0: 4}"
      ]
     },
     "execution_count": 87,
     "metadata": {},
     "output_type": "execute_result"
    }
   ],
   "source": [
    "old_hidden_state_to_new"
   ]
  },
  {
   "cell_type": "code",
   "execution_count": 88,
   "metadata": {
    "scrolled": true
   },
   "outputs": [],
   "source": [
    "team_id_map_to_new_hidden = {}\n",
    "for team_id_map in hidden_seqs:\n",
    "    team_id_map_to_new_hidden[team_id_map] = [old_hidden_state_to_new[x] for x in hidden_seqs[team_id_map]]\n",
    "\n"
   ]
  },
  {
   "cell_type": "code",
   "execution_count": 119,
   "metadata": {
    "scrolled": true
   },
   "outputs": [
    {
     "data": {
      "image/png": "[encoded data removed]",
      "text/plain": [
       "<Figure size 720x360 with 1 Axes>"
      ]
     },
     "metadata": {
      "needs_background": "light"
     },
     "output_type": "display_data"
    }
   ],
   "source": [
    "# for team_id in hidden_seqs:\n",
    "# for i in range(len(index_to_team_map)):\n",
    "fig, ax = plt.subplots(1, 1, figsize=(10,5))\n",
    "for i in range(4):\n",
    "    team_id = index_to_team_map[i]\n",
    "    plt.plot(range(len(team_id_map_to_new_hidden[team_id])), team_id_map_to_new_hidden[team_id])\n",
    "\n",
    "plt.legend(list(hidden_seqs.keys()))\n",
    "\n",
    "\n",
    "y = [0, 1, 2, 3, 4]\n",
    "labels = ['State 0: Poor', 'State 2', 'State 3', 'State 4', 'State 5: Good']\n",
    "plt.yticks(y, labels, rotation='horizontal')\n",
    "\n",
    "ax.set_yticklabels(labels)\n",
    "\n",
    "plt.ylabel(\"Hidden State (Collective Intelligence)\")\n",
    "plt.xlabel(\"Time (Minute)\")\n",
    "plt.title(\"High Walking Speed, High Anxiety Teams\")\n",
    "\n",
    "plt.show()\n",
    "\n",
    "\n"
   ]
  },
  {
   "cell_type": "code",
   "execution_count": 120,
   "metadata": {
    "scrolled": true
   },
   "outputs": [
    {
     "data": {
      "image/png": "[encoded data removed]",
      "text/plain": [
       "<Figure size 432x288 with 2 Axes>"
      ]
     },
     "metadata": {
      "needs_background": "light"
     },
     "output_type": "display_data"
    },
    {
     "data": {
      "image/png": "[encoded data removed]",
      "text/plain": [
       "<Figure size 432x288 with 2 Axes>"
      ]
     },
     "metadata": {
      "needs_background": "light"
     },
     "output_type": "display_data"
    }
   ],
   "source": [
    "A = np.array(test_unsuper_hmm.A)\n",
    "O = np.array(test_unsuper_hmm.O)\n",
    "\n",
    "new_A = []\n",
    "new_O = []\n",
    "for new_h_i in range((A.shape[0])):\n",
    "    new_row = []\n",
    "    for new_h_j in range(A.shape[0]):\n",
    "        old_h_i = new_hidden_state_to_old[new_h_i]\n",
    "        old_h_j = new_hidden_state_to_old[new_h_j]\n",
    "        \n",
    "        \n",
    "        new_row.append(A[old_h_i, old_h_j])\n",
    "    new_A.append(new_row)\n",
    "    \n",
    "    new_O.append(O[old_h_i, :])\n",
    "\n",
    "\n",
    "\n",
    "visualize_sparsities(new_A, new_O)\n"
   ]
  },
  {
   "cell_type": "code",
   "execution_count": null,
   "metadata": {
    "scrolled": true
   },
   "outputs": [],
   "source": []
  }
 ],
 "metadata": {
  "kernelspec": {
   "display_name": "Python 3",
   "language": "python",
   "name": "python3"
  },
  "language_info": {
   "codemirror_mode": {
    "name": "ipython",
    "version": 3
   },
   "file_extension": ".py",
   "mimetype": "text/x-python",
   "name": "python",
   "nbconvert_exporter": "python",
   "pygments_lexer": "ipython3",
   "version": "3.7.3"
  }
 },
 "nbformat": 4,
 "nbformat_minor": 2
}
