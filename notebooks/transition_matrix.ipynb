{
 "cells": [
  {
   "cell_type": "code",
   "execution_count": 1,
   "id": "0da92a11",
   "metadata": {},
   "outputs": [],
   "source": [
    "import transitionMatrix as tm"
   ]
  },
  {
   "cell_type": "code",
   "execution_count": 2,
   "id": "edddc909",
   "metadata": {},
   "outputs": [],
   "source": [
    "from transitionMatrix import dataset_path\n",
    "from transitionMatrix.model import matrix_exponent\n",
    "from transitionMatrix.utils.converters import print_matrix\n",
    "import matplotlib.pyplot as plt"
   ]
  },
  {
   "cell_type": "code",
   "execution_count": 3,
   "id": "9a3839cc",
   "metadata": {},
   "outputs": [],
   "source": [
    "AnnualSet = tm.TransitionMatrixSet(json_file=dataset_path + \"generic_multiperiod.json\")"
   ]
  },
  {
   "cell_type": "code",
   "execution_count": 9,
   "id": "7ac248d4",
   "metadata": {},
   "outputs": [
    {
     "data": {
      "text/plain": [
       "'/Users/daphnechen/miniconda3/lib/python3.7/site-packages/datasets/'"
      ]
     },
     "execution_count": 9,
     "metadata": {},
     "output_type": "execute_result"
    }
   ],
   "source": [
    "dataset_path"
   ]
  },
  {
   "cell_type": "code",
   "execution_count": 4,
   "id": "87f159a9",
   "metadata": {},
   "outputs": [
    {
     "data": {
      "text/plain": [
       "True"
      ]
     },
     "execution_count": 4,
     "metadata": {},
     "output_type": "execute_result"
    }
   ],
   "source": [
    "AnnualSet.validate()"
   ]
  },
  {
   "cell_type": "code",
   "execution_count": 5,
   "id": "0848957e",
   "metadata": {},
   "outputs": [
    {
     "name": "stdout",
     "output_type": "stream",
     "text": [
      "Entry:  0\n",
      "0.92 0.07 0.01 0.00 0.00 0.00 0.00 0.00 \n",
      "0.01 0.91 0.08 0.01 0.00 0.00 0.00 0.00 \n",
      "0.00 0.02 0.91 0.06 0.00 0.00 0.00 0.00 \n",
      "0.00 0.00 0.04 0.89 0.05 0.01 0.00 0.00 \n",
      "0.00 0.00 0.01 0.06 0.82 0.08 0.01 0.01 \n",
      "0.00 0.00 0.01 0.01 0.05 0.81 0.05 0.07 \n",
      "0.00 0.00 0.00 0.01 0.02 0.11 0.53 0.34 \n",
      "0.00 0.00 0.00 0.00 0.00 0.00 0.00 1.00 \n",
      "\n",
      "Entry:  1\n",
      "0.85 0.13 0.02 0.00 0.00 0.00 0.00 0.00 \n",
      "0.01 0.83 0.14 0.02 0.00 0.00 0.00 0.00 \n",
      "0.00 0.04 0.84 0.11 0.01 0.00 0.00 0.00 \n",
      "0.00 0.00 0.07 0.80 0.08 0.02 0.00 0.01 \n",
      "0.00 0.00 0.03 0.10 0.68 0.13 0.02 0.04 \n",
      "0.00 0.00 0.01 0.03 0.09 0.67 0.07 0.14 \n",
      "0.00 0.00 0.01 0.01 0.03 0.14 0.28 0.53 \n",
      "0.00 0.00 0.00 0.00 0.00 0.00 0.00 1.00 \n",
      "\n",
      "Entry:  2\n",
      "0.78 0.18 0.03 0.01 0.00 0.00 0.00 0.00 \n",
      "0.02 0.76 0.19 0.03 0.00 0.00 0.00 0.00 \n",
      "0.00 0.05 0.77 0.14 0.02 0.01 0.00 0.00 \n",
      "0.00 0.01 0.10 0.73 0.11 0.03 0.01 0.02 \n",
      "0.00 0.00 0.04 0.13 0.57 0.17 0.02 0.06 \n",
      "0.00 0.00 0.02 0.04 0.11 0.56 0.07 0.21 \n",
      "0.00 0.00 0.01 0.01 0.03 0.15 0.16 0.64 \n",
      "0.00 0.00 0.00 0.00 0.00 0.00 0.00 1.00 \n",
      "\n",
      "Entry:  3\n",
      "0.72 0.22 0.05 0.01 0.00 0.00 0.00 0.00 \n",
      "0.02 0.69 0.24 0.04 0.01 0.00 0.00 0.00 \n",
      "0.00 0.06 0.72 0.17 0.03 0.01 0.00 0.01 \n",
      "0.00 0.01 0.13 0.66 0.13 0.04 0.01 0.02 \n",
      "0.00 0.00 0.05 0.15 0.49 0.19 0.03 0.09 \n",
      "0.00 0.00 0.02 0.05 0.13 0.47 0.07 0.27 \n",
      "0.00 0.00 0.01 0.02 0.04 0.14 0.09 0.70 \n",
      "0.00 0.00 0.00 0.00 0.00 0.00 0.00 1.00 \n",
      "\n",
      "Entry:  4\n",
      "0.66 0.25 0.07 0.01 0.00 0.00 0.00 0.00 \n",
      "0.02 0.63 0.27 0.05 0.01 0.01 0.00 0.00 \n",
      "0.00 0.07 0.67 0.20 0.03 0.01 0.00 0.01 \n",
      "0.00 0.01 0.15 0.61 0.14 0.05 0.01 0.03 \n",
      "0.00 0.01 0.06 0.17 0.42 0.20 0.03 0.12 \n",
      "0.00 0.00 0.03 0.06 0.13 0.40 0.06 0.32 \n",
      "0.00 0.00 0.01 0.02 0.04 0.13 0.06 0.74 \n",
      "0.00 0.00 0.00 0.00 0.00 0.00 0.00 1.00 \n",
      "\n",
      "Entry:  5\n",
      "0.61 0.28 0.08 0.02 0.00 0.00 0.00 0.00 \n",
      "0.02 0.58 0.30 0.07 0.01 0.01 0.00 0.00 \n",
      "0.00 0.08 0.63 0.22 0.04 0.02 0.00 0.01 \n",
      "0.00 0.02 0.16 0.56 0.15 0.06 0.01 0.04 \n",
      "0.00 0.01 0.07 0.18 0.36 0.20 0.03 0.15 \n",
      "0.00 0.00 0.03 0.07 0.13 0.34 0.05 0.37 \n",
      "0.00 0.00 0.01 0.02 0.04 0.11 0.04 0.77 \n",
      "0.00 0.00 0.00 0.00 0.00 0.00 0.00 1.00 \n",
      "\n",
      "Entry:  6\n",
      "0.57 0.30 0.10 0.02 0.01 0.00 0.00 0.00 \n",
      "0.03 0.54 0.32 0.08 0.01 0.01 0.00 0.01 \n",
      "0.00 0.09 0.59 0.23 0.05 0.02 0.00 0.01 \n",
      "0.00 0.02 0.17 0.52 0.15 0.07 0.01 0.06 \n",
      "0.00 0.01 0.08 0.19 0.32 0.20 0.03 0.18 \n",
      "0.00 0.00 0.04 0.07 0.13 0.29 0.05 0.41 \n",
      "0.00 0.00 0.01 0.03 0.04 0.10 0.03 0.79 \n",
      "0.00 0.00 0.00 0.00 0.00 0.00 0.00 1.00 \n",
      "\n",
      "Entry:  7\n",
      "0.52 0.31 0.12 0.03 0.01 0.00 0.00 0.00 \n",
      "0.03 0.50 0.34 0.10 0.02 0.01 0.00 0.01 \n",
      "0.00 0.09 0.55 0.25 0.05 0.02 0.00 0.02 \n",
      "0.00 0.02 0.18 0.48 0.15 0.07 0.01 0.07 \n",
      "0.00 0.01 0.09 0.19 0.28 0.19 0.03 0.21 \n",
      "0.00 0.01 0.04 0.08 0.13 0.25 0.04 0.45 \n",
      "0.00 0.00 0.02 0.03 0.04 0.09 0.02 0.81 \n",
      "0.00 0.00 0.00 0.00 0.00 0.00 0.00 1.00 \n",
      "\n",
      "Entry:  8\n",
      "0.48 0.32 0.14 0.04 0.01 0.00 0.00 0.00 \n",
      "0.03 0.46 0.35 0.11 0.02 0.01 0.00 0.01 \n",
      "0.01 0.10 0.52 0.26 0.06 0.03 0.00 0.02 \n",
      "0.00 0.03 0.19 0.45 0.16 0.08 0.01 0.08 \n",
      "0.00 0.01 0.09 0.20 0.25 0.18 0.03 0.23 \n",
      "0.00 0.01 0.04 0.08 0.12 0.22 0.04 0.48 \n",
      "0.00 0.00 0.02 0.03 0.04 0.08 0.01 0.82 \n",
      "0.00 0.00 0.00 0.00 0.00 0.00 0.00 1.00 \n",
      "\n",
      "Entry:  9\n",
      "0.45 0.33 0.16 0.04 0.01 0.01 0.00 0.00 \n",
      "0.03 0.43 0.37 0.12 0.03 0.01 0.00 0.01 \n",
      "0.01 0.10 0.50 0.26 0.07 0.03 0.01 0.03 \n",
      "0.00 0.03 0.20 0.42 0.15 0.08 0.01 0.10 \n",
      "0.00 0.01 0.10 0.20 0.23 0.17 0.03 0.26 \n",
      "0.00 0.01 0.05 0.09 0.12 0.19 0.03 0.51 \n",
      "0.00 0.00 0.02 0.03 0.04 0.07 0.01 0.83 \n",
      "0.00 0.00 0.00 0.00 0.00 0.00 0.00 1.00 \n",
      "\n"
     ]
    }
   ],
   "source": [
    "AnnualSet.print_matrix()"
   ]
  },
  {
   "cell_type": "code",
   "execution_count": 6,
   "id": "548e9f01",
   "metadata": {},
   "outputs": [],
   "source": [
    "AnnualSet.incremental()"
   ]
  },
  {
   "cell_type": "code",
   "execution_count": 7,
   "id": "2d9b1a5b",
   "metadata": {},
   "outputs": [],
   "source": [
    "g = AnnualSet.entries[0].generator()"
   ]
  },
  {
   "cell_type": "code",
   "execution_count": 8,
   "id": "67663b65",
   "metadata": {},
   "outputs": [
    {
     "name": "stdout",
     "output_type": "stream",
     "text": [
      "-0.083221 0.077523 0.003547 0.001302 0.000617 0.000140 0.000117 -0.000026 \n",
      "0.006762 -0.097316 0.085149 0.003790 0.000357 0.001043 0.000212 0.000003 \n",
      "0.000454 0.022885 -0.092584 0.064010 0.003213 0.001370 0.000377 0.000274 \n",
      "0.000415 0.001777 0.044938 -0.115760 0.055990 0.007143 0.002718 0.002780 \n",
      "0.000320 0.000656 0.014383 0.063446 -0.200629 0.098966 0.012702 0.010155 \n",
      "0.000099 0.000348 0.005704 0.013302 0.065228 -0.217503 0.074413 0.058410 \n",
      "-0.000001 0.000194 0.003296 0.006402 0.017594 0.159448 -0.644226 0.457293 \n",
      "0.000000 0.000000 0.000000 0.000000 0.000000 0.000000 0.000000 0.000000 \n",
      "\n"
     ]
    }
   ],
   "source": [
    "print_matrix(g, accuracy=6)"
   ]
  },
  {
   "cell_type": "markdown",
   "id": "5e559fe0",
   "metadata": {},
   "source": [
    "# 50s data"
   ]
  },
  {
   "cell_type": "code",
   "execution_count": 11,
   "id": "995f45c3",
   "metadata": {},
   "outputs": [
    {
     "ename": "ValueError",
     "evalue": "invalid literal for int() with base 10: '17.2'",
     "output_type": "error",
     "traceback": [
      "\u001b[0;31m---------------------------------------------------------------------------\u001b[0m",
      "\u001b[0;31mValueError\u001b[0m                                Traceback (most recent call last)",
      "\u001b[0;32m<ipython-input-11-c7d2703f90b3>\u001b[0m in \u001b[0;36m<module>\u001b[0;34m\u001b[0m\n\u001b[0;32m----> 1\u001b[0;31m \u001b[0mSaladSet\u001b[0m \u001b[0;34m=\u001b[0m \u001b[0mtm\u001b[0m\u001b[0;34m.\u001b[0m\u001b[0mTransitionMatrixSet\u001b[0m\u001b[0;34m(\u001b[0m\u001b[0mcsv_file\u001b[0m\u001b[0;34m=\u001b[0m\u001b[0mdataset_path\u001b[0m \u001b[0;34m+\u001b[0m \u001b[0;34m\"salad_data.csv\"\u001b[0m\u001b[0;34m)\u001b[0m\u001b[0;34m\u001b[0m\u001b[0;34m\u001b[0m\u001b[0m\n\u001b[0m",
      "\u001b[0;32m~/miniconda3/lib/python3.7/site-packages/transitionMatrix/model.py\u001b[0m in \u001b[0;36m__init__\u001b[0;34m(self, dimension, values, periods, temporal_type, method, json_file, csv_file)\u001b[0m\n\u001b[1;32m    459\u001b[0m             \u001b[0mheader_data\u001b[0m \u001b[0;34m=\u001b[0m \u001b[0mf\u001b[0m\u001b[0;34m.\u001b[0m\u001b[0mreadline\u001b[0m\u001b[0;34m(\u001b[0m\u001b[0;34m)\u001b[0m\u001b[0;34m.\u001b[0m\u001b[0msplit\u001b[0m\u001b[0;34m(\u001b[0m\u001b[0;34m','\u001b[0m\u001b[0;34m)\u001b[0m\u001b[0;34m\u001b[0m\u001b[0;34m\u001b[0m\u001b[0m\n\u001b[1;32m    460\u001b[0m             \u001b[0mval_set\u001b[0m \u001b[0;34m=\u001b[0m \u001b[0;34m[\u001b[0m\u001b[0;34m]\u001b[0m\u001b[0;34m\u001b[0m\u001b[0;34m\u001b[0m\u001b[0m\n\u001b[0;32m--> 461\u001b[0;31m             \u001b[0mfrom_states\u001b[0m \u001b[0;34m=\u001b[0m \u001b[0mint\u001b[0m\u001b[0;34m(\u001b[0m\u001b[0mheader_data\u001b[0m\u001b[0;34m.\u001b[0m\u001b[0mpop\u001b[0m\u001b[0;34m(\u001b[0m\u001b[0;36m0\u001b[0m\u001b[0;34m)\u001b[0m\u001b[0;34m)\u001b[0m\u001b[0;34m\u001b[0m\u001b[0;34m\u001b[0m\u001b[0m\n\u001b[0m\u001b[1;32m    462\u001b[0m             \u001b[0mto_states\u001b[0m \u001b[0;34m=\u001b[0m \u001b[0mint\u001b[0m\u001b[0;34m(\u001b[0m\u001b[0mheader_data\u001b[0m\u001b[0;34m.\u001b[0m\u001b[0mpop\u001b[0m\u001b[0;34m(\u001b[0m\u001b[0;36m0\u001b[0m\u001b[0;34m)\u001b[0m\u001b[0;34m)\u001b[0m\u001b[0;34m\u001b[0m\u001b[0;34m\u001b[0m\u001b[0m\n\u001b[1;32m    463\u001b[0m             \u001b[0mperiods\u001b[0m \u001b[0;34m=\u001b[0m \u001b[0mint\u001b[0m\u001b[0;34m(\u001b[0m\u001b[0mheader_data\u001b[0m\u001b[0;34m.\u001b[0m\u001b[0mpop\u001b[0m\u001b[0;34m(\u001b[0m\u001b[0;36m0\u001b[0m\u001b[0;34m)\u001b[0m\u001b[0;34m)\u001b[0m\u001b[0;34m\u001b[0m\u001b[0;34m\u001b[0m\u001b[0m\n",
      "\u001b[0;31mValueError\u001b[0m: invalid literal for int() with base 10: '17.2'"
     ]
    }
   ],
   "source": [
    "SaladSet = tm.TransitionMatrixSet(csv_file=dataset_path + \"salad_data.csv\")"
   ]
  },
  {
   "cell_type": "code",
   "execution_count": 13,
   "id": "957b2b02",
   "metadata": {},
   "outputs": [],
   "source": [
    "t = tm.TransitionMatrix(csv_file=dataset_path + \"salad_data.csv\")"
   ]
  },
  {
   "cell_type": "code",
   "execution_count": 14,
   "id": "6ce87255",
   "metadata": {},
   "outputs": [
    {
     "data": {
      "text/plain": [
       "TransitionMatrix([[17.2, 17, 2, '0:0:25', '0:0:30',\n",
       "                   'peel_cucumber_prep\\n'],\n",
       "                  [17.2, 17, 2, '0:0:25', '0:4:15',\n",
       "                   'cut_and_mix_ingredients\\n'],\n",
       "                  [17.2, 17, 2, '0:0:30', '0:0:46',\n",
       "                   'peel_cucumber_core\\n'],\n",
       "                  ...,\n",
       "                  [7.2, 7, 2, '0:7:50', '0:7:56',\n",
       "                   'serve_salad_onto_plate_prep\\n'],\n",
       "                  [7.2, 7, 2, '0:7:56', '0:8:13',\n",
       "                   'serve_salad_onto_plate_core\\n'],\n",
       "                  [7.2, 7, 2, '0:8:13', '0:8:15',\n",
       "                   'serve_salad_onto_plate_post\\n']], dtype=object)"
      ]
     },
     "execution_count": 14,
     "metadata": {},
     "output_type": "execute_result"
    }
   ],
   "source": [
    "t"
   ]
  },
  {
   "cell_type": "code",
   "execution_count": 15,
   "id": "c6115876",
   "metadata": {},
   "outputs": [
    {
     "name": "stdout",
     "output_type": "stream",
     "text": [
      "[('Matrix Dimensions Differ: ', (2967, 6))]\n",
      "['Not a validated matrix. Use matrix.validate()']\n"
     ]
    },
    {
     "ename": "ValueError",
     "evalue": "expected square array_like input",
     "output_type": "error",
     "traceback": [
      "\u001b[0;31m---------------------------------------------------------------------------\u001b[0m",
      "\u001b[0;31mValueError\u001b[0m                                Traceback (most recent call last)",
      "\u001b[0;32m<ipython-input-15-79cb0545b2be>\u001b[0m in \u001b[0;36m<module>\u001b[0;34m\u001b[0m\n\u001b[1;32m      1\u001b[0m \u001b[0mprint\u001b[0m\u001b[0;34m(\u001b[0m\u001b[0mt\u001b[0m\u001b[0;34m.\u001b[0m\u001b[0mvalidate\u001b[0m\u001b[0;34m(\u001b[0m\u001b[0maccuracy\u001b[0m\u001b[0;34m=\u001b[0m\u001b[0;36m1e-3\u001b[0m\u001b[0;34m)\u001b[0m\u001b[0;34m)\u001b[0m\u001b[0;34m\u001b[0m\u001b[0;34m\u001b[0m\u001b[0m\n\u001b[1;32m      2\u001b[0m \u001b[0mprint\u001b[0m\u001b[0;34m(\u001b[0m\u001b[0mt\u001b[0m\u001b[0;34m.\u001b[0m\u001b[0mcharacterize\u001b[0m\u001b[0;34m(\u001b[0m\u001b[0;34m)\u001b[0m\u001b[0;34m)\u001b[0m\u001b[0;34m\u001b[0m\u001b[0;34m\u001b[0m\u001b[0m\n\u001b[0;32m----> 3\u001b[0;31m \u001b[0mprint\u001b[0m\u001b[0;34m(\u001b[0m\u001b[0mt\u001b[0m\u001b[0;34m.\u001b[0m\u001b[0mgenerator\u001b[0m\u001b[0;34m(\u001b[0m\u001b[0;34m)\u001b[0m\u001b[0;34m)\u001b[0m\u001b[0;34m\u001b[0m\u001b[0;34m\u001b[0m\u001b[0m\n\u001b[0m",
      "\u001b[0;32m~/miniconda3/lib/python3.7/site-packages/transitionMatrix/model.py\u001b[0m in \u001b[0;36mgenerator\u001b[0;34m(self, t, fix_negative)\u001b[0m\n\u001b[1;32m    239\u001b[0m         \u001b[0mG\u001b[0m \u001b[0;34m=\u001b[0m \u001b[0mA\u001b[0m\u001b[0;34m.\u001b[0m\u001b[0mgenerator\u001b[0m\u001b[0;34m(\u001b[0m\u001b[0;34m)\u001b[0m\u001b[0;34m\u001b[0m\u001b[0;34m\u001b[0m\u001b[0m\n\u001b[1;32m    240\u001b[0m         \"\"\"\n\u001b[0;32m--> 241\u001b[0;31m         \u001b[0mgenerator\u001b[0m \u001b[0;34m=\u001b[0m \u001b[0mlogm\u001b[0m\u001b[0;34m(\u001b[0m\u001b[0mself\u001b[0m\u001b[0;34m)\u001b[0m \u001b[0;34m/\u001b[0m \u001b[0mt\u001b[0m\u001b[0;34m\u001b[0m\u001b[0;34m\u001b[0m\u001b[0m\n\u001b[0m\u001b[1;32m    242\u001b[0m         \u001b[0;32mif\u001b[0m \u001b[0mfix_negative\u001b[0m\u001b[0;34m:\u001b[0m\u001b[0;34m\u001b[0m\u001b[0;34m\u001b[0m\u001b[0m\n\u001b[1;32m    243\u001b[0m             \u001b[0;31m# for all rows of the generator\u001b[0m\u001b[0;34m\u001b[0m\u001b[0;34m\u001b[0m\u001b[0;34m\u001b[0m\u001b[0m\n",
      "\u001b[0;32m~/miniconda3/lib/python3.7/site-packages/scipy/linalg/matfuncs.py\u001b[0m in \u001b[0;36mlogm\u001b[0;34m(A, disp)\u001b[0m\n\u001b[1;32m    192\u001b[0m \u001b[0;34m\u001b[0m\u001b[0m\n\u001b[1;32m    193\u001b[0m     \"\"\"\n\u001b[0;32m--> 194\u001b[0;31m     \u001b[0mA\u001b[0m \u001b[0;34m=\u001b[0m \u001b[0m_asarray_square\u001b[0m\u001b[0;34m(\u001b[0m\u001b[0mA\u001b[0m\u001b[0;34m)\u001b[0m\u001b[0;34m\u001b[0m\u001b[0;34m\u001b[0m\u001b[0m\n\u001b[0m\u001b[1;32m    195\u001b[0m     \u001b[0;31m# Avoid circular import ... this is OK, right?\u001b[0m\u001b[0;34m\u001b[0m\u001b[0;34m\u001b[0m\u001b[0;34m\u001b[0m\u001b[0m\n\u001b[1;32m    196\u001b[0m     \u001b[0;32mimport\u001b[0m \u001b[0mscipy\u001b[0m\u001b[0;34m.\u001b[0m\u001b[0mlinalg\u001b[0m\u001b[0;34m.\u001b[0m\u001b[0m_matfuncs_inv_ssq\u001b[0m\u001b[0;34m\u001b[0m\u001b[0;34m\u001b[0m\u001b[0m\n",
      "\u001b[0;32m~/miniconda3/lib/python3.7/site-packages/scipy/linalg/matfuncs.py\u001b[0m in \u001b[0;36m_asarray_square\u001b[0;34m(A)\u001b[0m\n\u001b[1;32m     51\u001b[0m     \u001b[0mA\u001b[0m \u001b[0;34m=\u001b[0m \u001b[0mnp\u001b[0m\u001b[0;34m.\u001b[0m\u001b[0masarray\u001b[0m\u001b[0;34m(\u001b[0m\u001b[0mA\u001b[0m\u001b[0;34m)\u001b[0m\u001b[0;34m\u001b[0m\u001b[0;34m\u001b[0m\u001b[0m\n\u001b[1;32m     52\u001b[0m     \u001b[0;32mif\u001b[0m \u001b[0mlen\u001b[0m\u001b[0;34m(\u001b[0m\u001b[0mA\u001b[0m\u001b[0;34m.\u001b[0m\u001b[0mshape\u001b[0m\u001b[0;34m)\u001b[0m \u001b[0;34m!=\u001b[0m \u001b[0;36m2\u001b[0m \u001b[0;32mor\u001b[0m \u001b[0mA\u001b[0m\u001b[0;34m.\u001b[0m\u001b[0mshape\u001b[0m\u001b[0;34m[\u001b[0m\u001b[0;36m0\u001b[0m\u001b[0;34m]\u001b[0m \u001b[0;34m!=\u001b[0m \u001b[0mA\u001b[0m\u001b[0;34m.\u001b[0m\u001b[0mshape\u001b[0m\u001b[0;34m[\u001b[0m\u001b[0;36m1\u001b[0m\u001b[0;34m]\u001b[0m\u001b[0;34m:\u001b[0m\u001b[0;34m\u001b[0m\u001b[0;34m\u001b[0m\u001b[0m\n\u001b[0;32m---> 53\u001b[0;31m         \u001b[0;32mraise\u001b[0m \u001b[0mValueError\u001b[0m\u001b[0;34m(\u001b[0m\u001b[0;34m'expected square array_like input'\u001b[0m\u001b[0;34m)\u001b[0m\u001b[0;34m\u001b[0m\u001b[0;34m\u001b[0m\u001b[0m\n\u001b[0m\u001b[1;32m     54\u001b[0m     \u001b[0;32mreturn\u001b[0m \u001b[0mA\u001b[0m\u001b[0;34m\u001b[0m\u001b[0;34m\u001b[0m\u001b[0m\n\u001b[1;32m     55\u001b[0m \u001b[0;34m\u001b[0m\u001b[0m\n",
      "\u001b[0;31mValueError\u001b[0m: expected square array_like input"
     ]
    }
   ],
   "source": [
    "print(t.validate(accuracy=1e-3))\n",
    "print(t.characterize())\n",
    "print(t.generator())"
   ]
  },
  {
   "cell_type": "code",
   "execution_count": null,
   "id": "65febfde",
   "metadata": {},
   "outputs": [],
   "source": []
  }
 ],
 "metadata": {
  "kernelspec": {
   "display_name": "Python 3",
   "language": "python",
   "name": "python3"
  },
  "language_info": {
   "codemirror_mode": {
    "name": "ipython",
    "version": 3
   },
   "file_extension": ".py",
   "mimetype": "text/x-python",
   "name": "python",
   "nbconvert_exporter": "python",
   "pygments_lexer": "ipython3",
   "version": "3.7.3"
  }
 },
 "nbformat": 4,
 "nbformat_minor": 5
}
